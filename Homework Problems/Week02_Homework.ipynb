{
    "cells": [
        {
            "cell_type": "markdown",
            "metadata": {
                "cellIdentifier": "22n9j3r10jsjy1mgwa7bfj",
                "colab_type": "text",
                "deletable": false,
                "editable": false,
                "id": "w2y1-ePwMvu0",
                "nbgrader": {
                    "grade": false,
                    "locked": true,
                    "solution": false
                }
            },
            "source": [
                "# Week 2 Problem Set\n",
                "\n",
                "## Homeworks"
            ]
        },
        {
            "cell_type": "code",
            "execution_count": 2,
            "metadata": {
                "cellIdentifier": "fgeeti8lxif9kg92dwvbzc"
            },
            "outputs": [
                {
                    "name": "stderr",
                    "output_type": "stream",
                    "text": [
                        "Version 1.0.5\n"
                    ]
                }
            ],
            "source": [
                "%load_ext nb_mypy\n",
                "%nb_mypy On"
            ]
        },
        {
            "cell_type": "markdown",
            "metadata": {
                "cellIdentifier": "p8wm3e4oos7uysrqtbkb4",
                "colab_type": "text",
                "deletable": false,
                "editable": false,
                "id": "Ft1Zw5gpMyMq",
                "nbgrader": {
                    "grade": false,
                    "locked": true,
                    "solution": false
                }
            },
            "source": [
                "**HW1.** *Min-Heap:* Write the following function to implement *min-heap*. A *min-heap* is a binary heap that satisfies the *min-heap property*. This property can be described as:\n",
                "\n",
                "    For all nodes except the root:\n",
                "    \n",
                "    A[left(i)] >= A[i]\n",
                "    A[right(i)] >= A[i]\n",
                "\n",
                "- `min_child(heap, index)`: which returns the index of the node's smallest child. The node you are referring has index of value `index`\n",
                "- `min_heapify(array, index, size)`: which moves the node at `index` down the tree so as to satisfy the *min-heap property*. The argument `index` is the index of the node you want to start moving down in the array. The argument `size` is the size of the heap. This size may be the same or less than the number of elements in the array. Hint: You may need the `min_child()` function.\n",
                "- `build_min_heap(array)`: which build a *min-heap* from an arbitrary array of integers. This function should make use of `min_heapify(array, index)`. "
            ]
        },
        {
            "cell_type": "code",
            "execution_count": 4,
            "metadata": {
                "cellIdentifier": "kpy1dyoi6imbpjumzm28h"
            },
            "outputs": [],
            "source": [
                "# Copy over the implementations of left_of & right_of from the Cohort qns\n",
                "def left_of(index: int) -> int:\n",
                "    return index*2+1\n",
                "\n",
                "def right_of(index: int) -> int:\n",
                "    return index*2+2"
            ]
        },
        {
            "cell_type": "code",
            "execution_count": 8,
            "metadata": {
                "cellIdentifier": "9wiszxp2kpimlulis2fed8",
                "colab": [],
                "colab_type": "code",
                "id": "Hqig98U9NS3g",
                "nbgrader": {
                    "grade": false,
                    "locked": false,
                    "solution": false
                }
            },
            "outputs": [],
            "source": [
                "def min_child(heap: list[int|float], index: int, heap_size: int) -> int:\n",
                "    lf, rg = left_of(index), right_of(index)\n",
                "    if (lf >= heap_size):\n",
                "        return -1\n",
                "    if (rg < heap_size and heap[rg] < heap[lf]):\n",
                "        return rg\n",
                "    return lf"
            ]
        },
        {
            "cell_type": "code",
            "execution_count": 9,
            "metadata": {
                "cellIdentifier": "pzr83fhl01he8gns1v5mwa",
                "deletable": false,
                "editable": false,
                "nbgrader": {
                    "grade": true,
                    "grade_id": "hw11",
                    "locked": true,
                    "points": "1",
                    "solution": false
                }
            },
            "outputs": [],
            "source": [
                "minheap: list[int|float] = [1, 2, 4, 3, 9, 7, 8, 10, 14, 16]\n",
                "assert min_child(minheap, 0, len(minheap)) == 1\n",
                "assert min_child(minheap, 2, len(minheap)) == 5\n",
                "assert min_child(minheap, 3, len(minheap)) == 7\n",
                "assert min_child(minheap, 1, len(minheap)) == 3\n",
                "assert min_child(minheap, 4, len(minheap)) == 9\n"
            ]
        },
        {
            "cell_type": "code",
            "execution_count": 10,
            "metadata": {
                "cellIdentifier": "l4ocymi0juys35549ltp",
                "deletable": false,
                "editable": false,
                "nbgrader": {
                    "grade": true,
                    "grade_id": "hw12",
                    "locked": true,
                    "points": "1",
                    "solution": false
                }
            },
            "outputs": [],
            "source": [
                "###\n",
                "### AUTOGRADER TEST - DO NOT REMOVE\n",
                "###\n"
            ]
        },
        {
            "cell_type": "markdown",
            "metadata": {
                "cellIdentifier": "dmv2cajjj1fgb7swvnqu4m",
                "deletable": false,
                "editable": false,
                "nbgrader": {
                    "grade": false,
                    "locked": true,
                    "solution": false
                }
            },
            "source": [
                "Reorder the code for min heapify function. The function takes in the array, the index indicating which node to start the heapifying process and the size of the heap. It should modify the input array in such a way that it satisfies the min-heap property starting from the index node.\n",
                "\n",
                "Input: \n",
                "- array: binary tree to be restored to satisfy the min-heap property\n",
                "- index: index of the node where the min-heapify property should be satisfied on its subtree\n",
                "- size: number of elements of the binary tree\n",
                "\n",
                "Output:\n",
                "- None, the function should modify the array in-place."
            ]
        },
        {
            "cell_type": "code",
            "execution_count": 11,
            "metadata": {
                "cellIdentifier": "c7jljrn5zeeuqmhzgi7e7h",
                "deletable": false,
                "editable": false,
                "nbgrader": {
                    "grade": false,
                    "locked": true,
                    "solution": false
                }
            },
            "outputs": [
                {
                    "data": {
                        "text/html": [
                            "\n",
                            "        <iframe\n",
                            "            width=\"1000\"\n",
                            "            height=\"400\"\n",
                            "            src=\"https://parsons.problemsolving.io/puzzle/be045496a109446c97b0a78e152a2f3c\"\n",
                            "            frameborder=\"0\"\n",
                            "            allowfullscreen\n",
                            "            \n",
                            "        ></iframe>\n",
                            "        "
                        ],
                        "text/plain": [
                            "<IPython.lib.display.IFrame at 0x28ae23b90>"
                        ]
                    },
                    "execution_count": 11,
                    "metadata": {},
                    "output_type": "execute_result"
                }
            ],
            "source": [
                "from IPython.display import IFrame\n",
                "IFrame('https://parsons.problemsolving.io/puzzle/be045496a109446c97b0a78e152a2f3c', 1000, 400)"
            ]
        },
        {
            "cell_type": "markdown",
            "metadata": {
                "cellIdentifier": "9ryv1fm26xhcgw4pqmkvt",
                "deletable": false,
                "editable": false,
                "nbgrader": {
                    "grade": false,
                    "locked": true,
                    "solution": false
                }
            },
            "source": [
                "Write the code below to test."
            ]
        },
        {
            "cell_type": "code",
            "execution_count": 23,
            "metadata": {
                "cellIdentifier": "a72ef2nvy0meqpnnhfscqc",
                "colab": [],
                "colab_type": "code",
                "id": "JWasCCnBOLUA"
            },
            "outputs": [],
            "source": [
                "def min_heapify(array: list[int|float], index: int, size: int) -> None:\n",
                "   cur_idx = index\n",
                "   changed = 1\n",
                "   while(left_of(cur_idx) < size and changed):\n",
                "      changed = 0\n",
                "      min_child_idx = min_child(array, cur_idx, size)\n",
                "      if (array[min_child_idx] < array[cur_idx]):\n",
                "         array[min_child_idx], array[cur_idx] = array[cur_idx], array[min_child_idx]\n",
                "         cur_idx = min_child_idx\n",
                "         changed = 1\n",
                "      "
            ]
        },
        {
            "cell_type": "code",
            "execution_count": 20,
            "metadata": {
                "cellIdentifier": "ua1jc7svnmd51r1njut5k",
                "deletable": false,
                "editable": false,
                "nbgrader": {
                    "grade": true,
                    "grade_id": "hw13",
                    "locked": true,
                    "points": "1",
                    "solution": false
                }
            },
            "outputs": [],
            "source": [
                "array: list[int|float] = [1, 3, 4, 2, 9, 7, 8, 10, 14, 16]\n",
                "min_heapify(array, 1, len(array))\n",
                "assert array == [1, 2, 4, 3, 9, 7, 8, 10, 14, 16]\n"
            ]
        },
        {
            "cell_type": "code",
            "execution_count": 16,
            "metadata": {
                "cellIdentifier": "w63h3xjquua3kki24w38zv",
                "deletable": false,
                "editable": false,
                "nbgrader": {
                    "grade": true,
                    "grade_id": "hw14",
                    "locked": true,
                    "points": "1",
                    "solution": false
                }
            },
            "outputs": [],
            "source": [
                "###\n",
                "### AUTOGRADER TEST - DO NOT REMOVE\n",
                "###\n"
            ]
        },
        {
            "cell_type": "code",
            "execution_count": 21,
            "metadata": {
                "cellIdentifier": "3aceyz2ei1vj36qzltrlm",
                "colab": {
                    "base_uri": "https://localhost:8080/",
                    "height": 51
                },
                "colab_type": "code",
                "executionInfo": {
                    "elapsed": 35732,
                    "status": "ok",
                    "timestamp": 1572852549354,
                    "user": {
                        "displayName": "Oka Kurniawan",
                        "photoUrl": "https://lh3.googleusercontent.com/a-/AAuE7mAnRP7A15yGfrraUO-0BiNVbNmYjI2f9jaZikjr=s64",
                        "userId": "05233922875329103764"
                    },
                    "user_tz": -480
                },
                "id": "qVhvO4lzO82L",
                "outputId": "08ed2169-2e53-4aa4-e6d3-49a6448c4299"
            },
            "outputs": [],
            "source": [
                "def build_min_heap(array: list[int|float]) -> None:\n",
                "    n = len(array)\n",
                "    idx = (n//2)-1\n",
                "    for i in range(idx,-1,-1):\n",
                "        min_heapify(array, i, n)"
            ]
        },
        {
            "cell_type": "code",
            "execution_count": 24,
            "metadata": {
                "cellIdentifier": "xugnc44bu5ks8e3bpec1",
                "deletable": false,
                "editable": false,
                "nbgrader": {
                    "grade": true,
                    "grade_id": "hw15",
                    "locked": true,
                    "points": "1",
                    "solution": false
                }
            },
            "outputs": [
                {
                    "name": "stdout",
                    "output_type": "stream",
                    "text": [
                        "[16, 14, 10, 8, 7, 9, 3, 2, 4, 1]\n",
                        "[1, 2, 3, 4, 7, 9, 10, 8, 16, 14]\n"
                    ]
                }
            ],
            "source": [
                "array: list[int|float] = [16, 14, 10, 8, 7, 9, 3, 2, 4, 1]\n",
                "print(array)\n",
                "build_min_heap(array)\n",
                "print(array)\n",
                "assert array == [1, 2, 3, 4, 7, 9, 10, 8, 16, 14]\n"
            ]
        },
        {
            "cell_type": "code",
            "execution_count": 25,
            "metadata": {
                "cellIdentifier": "fbnfdiyl2lmecvy2gxrzqb",
                "deletable": false,
                "editable": false,
                "nbgrader": {
                    "grade": true,
                    "grade_id": "hw16",
                    "locked": true,
                    "points": "1",
                    "solution": false
                }
            },
            "outputs": [],
            "source": [
                "###\n",
                "### AUTOGRADER TEST - DO NOT REMOVE\n",
                "###\n"
            ]
        },
        {
            "cell_type": "markdown",
            "metadata": {
                "cellIdentifier": "7m2c20fdjcl23lx6z79688",
                "colab_type": "text",
                "deletable": false,
                "editable": false,
                "id": "rTwYqPXjPhhD",
                "nbgrader": {
                    "grade": false,
                    "locked": true,
                    "solution": false
                }
            },
            "source": [
                "**HW2.** *Heapsort:* Implement heapsort that makes use of *min-heap* instead of *max-heap*. This function returns a *new* array. The strategy is similar to max-heap, but we will use a new array to store the sorted output. Take note of the hints below:\n",
                "- The top of the min-heap is always the smallest. You can take this element and put it into the output array.\n",
                "- To find the next minimum, take the last element of the heap and put it into the first element of the array. Now, the tree is no longer a min-heap. Use `min_heapify()` to restore the min-heap property. This will result in a mean-heap where the first element of the array is the next minimum. You can then take out the top of the min-heap and put it into the output array.\n",
                "- Reduce the heap size as you go.\n",
                "- Return the new output array."
            ]
        },
        {
            "cell_type": "code",
            "execution_count": 32,
            "metadata": {
                "cellIdentifier": "iq06k6p28ygwhtvux8zasm"
            },
            "outputs": [],
            "source": [
                "import random\n",
                "\n",
                "def gen_random_int(number: int, seed: int) -> list[int]:\n",
                "    result = []\n",
                "    for i in range(number+1):\n",
                "        result.append(i)\n",
                "    random.seed(seed)\n",
                "    random.shuffle(result)\n",
                "    return result"
            ]
        },
        {
            "cell_type": "code",
            "execution_count": 30,
            "metadata": {
                "cellIdentifier": "gidcfd3ccxay82vn49348",
                "colab": [],
                "colab_type": "code",
                "id": "ORDGioxUPoY5"
            },
            "outputs": [],
            "source": [
                "def heapsort(array: list[int|float]) -> list[int|float]:\n",
                "    result: list[int|float] = []\n",
                "    build_min_heap(array)\n",
                "    heap_end_pos = len(array)-1\n",
                "    while(heap_end_pos > 0):\n",
                "        result.append(array[0])\n",
                "        array[0], array[heap_end_pos] = array[heap_end_pos], array[0]\n",
                "        heap_end_pos -= 1\n",
                "        min_heapify(array, 0, heap_end_pos+1)\n",
                "    return result"
            ]
        },
        {
            "cell_type": "code",
            "execution_count": 33,
            "metadata": {
                "cellIdentifier": "wnghaamlmeaevru8sby2",
                "deletable": false,
                "editable": false,
                "nbgrader": {
                    "grade": true,
                    "grade_id": "hw21",
                    "locked": true,
                    "points": "1",
                    "solution": false
                }
            },
            "outputs": [],
            "source": [
                "from typing import cast\n",
                "array: list[int] = gen_random_int(10, 100)\n",
                "array = cast(list[int|float], array)\n",
                "result: list[int|float] = heapsort(array)\n",
                "assert result == [0, 1, 2, 3, 4, 5, 6, 7, 8, 9]\n"
            ]
        },
        {
            "cell_type": "code",
            "execution_count": 34,
            "metadata": {
                "cellIdentifier": "7y7lomaeeee9ovf770lglb",
                "deletable": false,
                "editable": false,
                "nbgrader": {
                    "grade": true,
                    "grade_id": "hw22",
                    "locked": true,
                    "points": "1",
                    "solution": false
                }
            },
            "outputs": [],
            "source": [
                "###\n",
                "### AUTOGRADER TEST - DO NOT REMOVE\n",
                "###\n"
            ]
        },
        {
            "cell_type": "markdown",
            "metadata": {
                "cellIdentifier": "vqbwwfhb09idu24kz7ixph",
                "colab_type": "text",
                "deletable": false,
                "editable": false,
                "id": "lUQCfMxaWese",
                "nbgrader": {
                    "grade": false,
                    "locked": true,
                    "solution": false
                }
            },
            "source": [
                "**HW3.** Compute the computational time for Heap Sort algorithm implemented in Python for various number of inputs. Make use of `gen_random_int(n)` to generate the input array. Use the template below to generate computation time for different number of inputs: 10, 100, 1000, etc."
            ]
        },
        {
            "cell_type": "code",
            "execution_count": 35,
            "metadata": {
                "cellIdentifier": "3tb8tzbmoa57mwdhn0r4yf",
                "colab": {
                    "base_uri": "https://localhost:8080/",
                    "height": 34
                },
                "colab_type": "code",
                "executionInfo": {
                    "elapsed": 1876220,
                    "status": "ok",
                    "timestamp": 1572855614477,
                    "user": {
                        "displayName": "Oka Kurniawan",
                        "photoUrl": "https://lh3.googleusercontent.com/a-/AAuE7mAnRP7A15yGfrraUO-0BiNVbNmYjI2f9jaZikjr=s64",
                        "userId": "05233922875329103764"
                    },
                    "user_tz": -480
                },
                "id": "wD-pBWwCWl-I",
                "outputId": "f50a8a1c-fc2b-427f-b99b-fc8b2f89fa6e"
            },
            "outputs": [
                {
                    "name": "stderr",
                    "output_type": "stream",
                    "text": [
                        "<cell>23: \u001b[1m\u001b[31merror:\u001b[m Incompatible types in assignment (expression has type \u001b[m\u001b[1m\"int\"\u001b[m, variable has type \u001b[m\u001b[1m\"ndarray[Any, dtype[Any]]\"\u001b[m)  \u001b[m\u001b[33m[assignment]\u001b[m\n",
                        "<cell>26: \u001b[1m\u001b[31merror:\u001b[m Argument 1 to \u001b[m\u001b[1m\"gen_random_int\"\u001b[m has incompatible type \u001b[m\u001b[1m\"ndarray[Any, dtype[signedinteger[Any]]]\"\u001b[m; expected \u001b[m\u001b[1m\"int\"\u001b[m  \u001b[m\u001b[33m[arg-type]\u001b[m\n",
                        "<cell>31: \u001b[1m\u001b[31merror:\u001b[m Incompatible types in assignment (expression has type \u001b[m\u001b[1m\"float\"\u001b[m, variable has type \u001b[m\u001b[1m\"list[int | float]\"\u001b[m)  \u001b[m\u001b[33m[assignment]\u001b[m\n",
                        "<cell>31: \u001b[1m\u001b[31merror:\u001b[m Argument 2 to \u001b[m\u001b[1m\"run_function\"\u001b[m has incompatible type \u001b[m\u001b[1m\"list[int]\"\u001b[m; expected \u001b[m\u001b[1m\"list[int | float]\"\u001b[m  \u001b[m\u001b[33m[arg-type]\u001b[m\n",
                        "<cell>31: \u001b[34mnote:\u001b[m \u001b[m\u001b[1m\"List\"\u001b[m is invariant -- see \u001b[4mhttps://mypy.readthedocs.io/en/stable/common_issues.html#variance\u001b[m\u001b[m\n",
                        "<cell>31: \u001b[34mnote:\u001b[m Consider using \u001b[m\u001b[1m\"Sequence\"\u001b[m instead, which is covariant\u001b[m\n",
                        "<cell>34: \u001b[1m\u001b[31merror:\u001b[m Argument 1 to \u001b[m\u001b[1m\"append\"\u001b[m of \u001b[m\u001b[1m\"list\"\u001b[m has incompatible type \u001b[m\u001b[1m\"list[int | float]\"\u001b[m; expected \u001b[m\u001b[1m\"float\"\u001b[m  \u001b[m\u001b[33m[arg-type]\u001b[m\n"
                    ]
                },
                {
                    "name": "stdout",
                    "output_type": "stream",
                    "text": [
                        "[1.52587890625e-05, 0.00013780593872070312, 0.002332925796508789, 0.034132957458496094, 0.45529699325561523]\n"
                    ]
                }
            ],
            "source": [
                "import time\n",
                "import random\n",
                "from typing import Callable\n",
                "\n",
                "def run_function(f: Callable, x:list[int|float]) -> float:\n",
                "    start: float = time.time()\n",
                "    f(x)\n",
                "    end: float = time.time()\n",
                "    return end-start\n",
                "\n",
                "def gen_random_int(number: int, seed: int) -> list[int]:\n",
                "    result = []\n",
                "    for i in range(number):\n",
                "        result.append(i)\n",
                "    random.seed(seed)\n",
                "    random.shuffle(result)\n",
                "    return result\n",
                "\n",
                "time_heapsort: list[float] = []\n",
                "# set the maximum power for 10^power number of inputs\n",
                "maxpower: int = 5\n",
                "\n",
                "for n in range(1, maxpower + 1):\n",
                "    # create array for 10^1, 10^2, etc \n",
                "    # use seed 100\n",
                "    array = gen_random_int((10**n),100)\n",
                "    \n",
                "    # call run_function with heapsort and array as arguments\n",
                "    # result = run_function(None, None)\n",
                "    \n",
                "    result = run_function(heapsort,array)\n",
                "    \n",
                "    \n",
                "    time_heapsort.append(result)\n",
                "\n",
                "print(time_heapsort)"
            ]
        },
        {
            "cell_type": "markdown",
            "metadata": {
                "cellIdentifier": "y92kl836e4qcutiuaaaghi",
                "colab_type": "text",
                "deletable": false,
                "editable": false,
                "id": "uhki2vZsXlC0",
                "nbgrader": {
                    "grade": false,
                    "locked": true,
                    "solution": false
                }
            },
            "source": [
                "**HW4.** Plot the output of HW3 by first calculating a new x-axis computed as $n\\log_2(n)$. Use the template below.\n",
                "\n",
                "Reference:\n",
                "- [Numpy Log2 function](https://docs.scipy.org/doc/numpy/reference/generated/numpy.log2.html)"
            ]
        },
        {
            "cell_type": "code",
            "execution_count": 3,
            "metadata": {
                "cellIdentifier": "xuxz17hglqqy5kdrez3ph9",
                "colab": {
                    "base_uri": "https://localhost:8080/",
                    "height": 279
                },
                "colab_type": "code",
                "deletable": false,
                "editable": false,
                "executionInfo": {
                    "elapsed": 1073,
                    "status": "ok",
                    "timestamp": 1572853721594,
                    "user": {
                        "displayName": "Oka Kurniawan",
                        "photoUrl": "https://lh3.googleusercontent.com/a-/AAuE7mAnRP7A15yGfrraUO-0BiNVbNmYjI2f9jaZikjr=s64",
                        "userId": "05233922875329103764"
                    },
                    "user_tz": -480
                },
                "id": "kXevgXjHXnmF",
                "nbgrader": {
                    "grade": false,
                    "locked": true,
                    "solution": false
                },
                "outputId": "0b54258d-4124-4b4c-d836-6c615c5fd6ab"
            },
            "outputs": [
                {
                    "name": "stderr",
                    "output_type": "stream",
                    "text": [
                        "<cell>19: \u001b[1m\u001b[31merror:\u001b[m Name \u001b[m\u001b[1m\"time_heapsort\"\u001b[m is not defined  \u001b[m\u001b[33m[name-defined]\u001b[m\n"
                    ]
                },
                {
                    "ename": "NameError",
                    "evalue": "name 'time_heapsort' is not defined",
                    "output_type": "error",
                    "traceback": [
                        "\u001b[0;31m---------------------------------------------------------------------------\u001b[0m",
                        "\u001b[0;31mNameError\u001b[0m                                 Traceback (most recent call last)",
                        "Cell \u001b[0;32mIn[3], line 19\u001b[0m\n\u001b[1;32m     17\u001b[0m \u001b[38;5;66;03m# calculate n*log(n) for x axis \u001b[39;00m\n\u001b[1;32m     18\u001b[0m x \u001b[38;5;241m=\u001b[39m n \u001b[38;5;241m*\u001b[39m np\u001b[38;5;241m.\u001b[39mlog2(n)\n\u001b[0;32m---> 19\u001b[0m plt\u001b[38;5;241m.\u001b[39mplot(x, \u001b[43mtime_heapsort\u001b[49m, \u001b[38;5;124m\"\u001b[39m\u001b[38;5;124m-o\u001b[39m\u001b[38;5;124m\"\u001b[39m)\n\u001b[1;32m     20\u001b[0m plt\u001b[38;5;241m.\u001b[39mxlabel(\u001b[38;5;124m\"\u001b[39m\u001b[38;5;124mnumber of input\u001b[39m\u001b[38;5;124m\"\u001b[39m)\n\u001b[1;32m     21\u001b[0m plt\u001b[38;5;241m.\u001b[39mylabel(\u001b[38;5;124m\"\u001b[39m\u001b[38;5;124mcomputation time (s)\u001b[39m\u001b[38;5;124m\"\u001b[39m)\n",
                        "\u001b[0;31mNameError\u001b[0m: name 'time_heapsort' is not defined"
                    ]
                }
            ],
            "source": [
                "import matplotlib.pyplot as plt\n",
                "import numpy as np\n",
                "\n",
                "maxpower: int = 5\n",
                "# create an iterable from 1 to maxpowers\n",
                "powers = range(1, maxpower + 1)\n",
                "# variable n stores the number of items to sort\n",
                "n: list[int] = []\n",
                "\n",
                "# Create a list of n for our x axis\n",
                "for exp in powers:\n",
                "    n.append(10**exp)\n",
                "\n",
                "# convert to Numpy array\n",
                "n = np.array(n)\n",
                "\n",
                "# calculate n*log(n) for x axis \n",
                "x = n * np.log2(n)\n",
                "plt.plot(x, time_heapsort, \"-o\")\n",
                "plt.xlabel(\"number of input\")\n",
                "plt.ylabel(\"computation time (s)\")\n",
                "plt.show()"
            ]
        }
    ],
    "metadata": {
        "kernel_id": "00b31481-55a5-4d44-a50e-f96f051dc24a",
        "kernelspec": {
            "display_name": "Python 3 (ipykernel)",
            "language": "python",
            "name": "python3"
        },
        "language_info": {
            "codemirror_mode": {
                "name": "ipython",
                "version": 3
            },
            "file_extension": ".py",
            "mimetype": "text/x-python",
            "name": "python",
            "nbconvert_exporter": "python",
            "pygments_lexer": "ipython3",
            "version": "3.12.1"
        },
        "vscode": {
            "interpreter": {
                "hash": "ac37b77c3c0f43e60bec193f0626743b91dd65d8d4aeca5713e457ab7e777e4c"
            }
        }
    },
    "nbformat": 4,
    "nbformat_minor": 4
}
