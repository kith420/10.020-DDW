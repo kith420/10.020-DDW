{
    "cells": [
        {
            "attachments": {},
            "cell_type": "markdown",
            "metadata": {
                "cellIdentifier": "cuvnlv2aj1h7n2xlofmzxc",
                "colab_type": "text",
                "deletable": false,
                "editable": false,
                "id": "8aIR0Iu8Bp-M",
                "nbgrader": {
                    "grade": false,
                    "locked": true,
                    "solution": false
                }
            },
            "source": [
                "# Week 08 Problem Set\n",
                "\n",
                "## Homework"
            ]
        },
        {
            "cell_type": "code",
            "execution_count": 1,
            "metadata": {
                "cellIdentifier": "5xs5jomjhox1s3w4dss3xs"
            },
            "outputs": [
                {
                    "ename": "ModuleNotFoundError",
                    "evalue": "No module named 'nb_mypy'",
                    "output_type": "error",
                    "traceback": [
                        "\u001b[0;31m---------------------------------------------------------------------------\u001b[0m",
                        "\u001b[0;31mModuleNotFoundError\u001b[0m                       Traceback (most recent call last)",
                        "Cell \u001b[0;32mIn[1], line 1\u001b[0m\n\u001b[0;32m----> 1\u001b[0m get_ipython()\u001b[38;5;241m.\u001b[39mrun_line_magic(\u001b[38;5;124m'\u001b[39m\u001b[38;5;124mload_ext\u001b[39m\u001b[38;5;124m'\u001b[39m, \u001b[38;5;124m'\u001b[39m\u001b[38;5;124mnb_mypy\u001b[39m\u001b[38;5;124m'\u001b[39m)\n\u001b[1;32m      2\u001b[0m get_ipython()\u001b[38;5;241m.\u001b[39mrun_line_magic(\u001b[38;5;124m'\u001b[39m\u001b[38;5;124mnb_mypy\u001b[39m\u001b[38;5;124m'\u001b[39m, \u001b[38;5;124m'\u001b[39m\u001b[38;5;124mOn\u001b[39m\u001b[38;5;124m'\u001b[39m)\n",
                        "File \u001b[0;32m/opt/homebrew/anaconda3/lib/python3.12/site-packages/IPython/core/interactiveshell.py:2480\u001b[0m, in \u001b[0;36mInteractiveShell.run_line_magic\u001b[0;34m(self, magic_name, line, _stack_depth)\u001b[0m\n\u001b[1;32m   2478\u001b[0m     kwargs[\u001b[38;5;124m'\u001b[39m\u001b[38;5;124mlocal_ns\u001b[39m\u001b[38;5;124m'\u001b[39m] \u001b[38;5;241m=\u001b[39m \u001b[38;5;28mself\u001b[39m\u001b[38;5;241m.\u001b[39mget_local_scope(stack_depth)\n\u001b[1;32m   2479\u001b[0m \u001b[38;5;28;01mwith\u001b[39;00m \u001b[38;5;28mself\u001b[39m\u001b[38;5;241m.\u001b[39mbuiltin_trap:\n\u001b[0;32m-> 2480\u001b[0m     result \u001b[38;5;241m=\u001b[39m fn(\u001b[38;5;241m*\u001b[39margs, \u001b[38;5;241m*\u001b[39m\u001b[38;5;241m*\u001b[39mkwargs)\n\u001b[1;32m   2482\u001b[0m \u001b[38;5;66;03m# The code below prevents the output from being displayed\u001b[39;00m\n\u001b[1;32m   2483\u001b[0m \u001b[38;5;66;03m# when using magics with decorator @output_can_be_silenced\u001b[39;00m\n\u001b[1;32m   2484\u001b[0m \u001b[38;5;66;03m# when the last Python token in the expression is a ';'.\u001b[39;00m\n\u001b[1;32m   2485\u001b[0m \u001b[38;5;28;01mif\u001b[39;00m \u001b[38;5;28mgetattr\u001b[39m(fn, magic\u001b[38;5;241m.\u001b[39mMAGIC_OUTPUT_CAN_BE_SILENCED, \u001b[38;5;28;01mFalse\u001b[39;00m):\n",
                        "File \u001b[0;32m/opt/homebrew/anaconda3/lib/python3.12/site-packages/IPython/core/magics/extension.py:33\u001b[0m, in \u001b[0;36mExtensionMagics.load_ext\u001b[0;34m(self, module_str)\u001b[0m\n\u001b[1;32m     31\u001b[0m \u001b[38;5;28;01mif\u001b[39;00m \u001b[38;5;129;01mnot\u001b[39;00m module_str:\n\u001b[1;32m     32\u001b[0m     \u001b[38;5;28;01mraise\u001b[39;00m UsageError(\u001b[38;5;124m'\u001b[39m\u001b[38;5;124mMissing module name.\u001b[39m\u001b[38;5;124m'\u001b[39m)\n\u001b[0;32m---> 33\u001b[0m res \u001b[38;5;241m=\u001b[39m \u001b[38;5;28mself\u001b[39m\u001b[38;5;241m.\u001b[39mshell\u001b[38;5;241m.\u001b[39mextension_manager\u001b[38;5;241m.\u001b[39mload_extension(module_str)\n\u001b[1;32m     35\u001b[0m \u001b[38;5;28;01mif\u001b[39;00m res \u001b[38;5;241m==\u001b[39m \u001b[38;5;124m'\u001b[39m\u001b[38;5;124malready loaded\u001b[39m\u001b[38;5;124m'\u001b[39m:\n\u001b[1;32m     36\u001b[0m     \u001b[38;5;28mprint\u001b[39m(\u001b[38;5;124m\"\u001b[39m\u001b[38;5;124mThe \u001b[39m\u001b[38;5;132;01m%s\u001b[39;00m\u001b[38;5;124m extension is already loaded. To reload it, use:\u001b[39m\u001b[38;5;124m\"\u001b[39m \u001b[38;5;241m%\u001b[39m module_str)\n",
                        "File \u001b[0;32m/opt/homebrew/anaconda3/lib/python3.12/site-packages/IPython/core/extensions.py:62\u001b[0m, in \u001b[0;36mExtensionManager.load_extension\u001b[0;34m(self, module_str)\u001b[0m\n\u001b[1;32m     55\u001b[0m \u001b[38;5;250m\u001b[39m\u001b[38;5;124;03m\"\"\"Load an IPython extension by its module name.\u001b[39;00m\n\u001b[1;32m     56\u001b[0m \n\u001b[1;32m     57\u001b[0m \u001b[38;5;124;03mReturns the string \"already loaded\" if the extension is already loaded,\u001b[39;00m\n\u001b[1;32m     58\u001b[0m \u001b[38;5;124;03m\"no load function\" if the module doesn't have a load_ipython_extension\u001b[39;00m\n\u001b[1;32m     59\u001b[0m \u001b[38;5;124;03mfunction, or None if it succeeded.\u001b[39;00m\n\u001b[1;32m     60\u001b[0m \u001b[38;5;124;03m\"\"\"\u001b[39;00m\n\u001b[1;32m     61\u001b[0m \u001b[38;5;28;01mtry\u001b[39;00m:\n\u001b[0;32m---> 62\u001b[0m     \u001b[38;5;28;01mreturn\u001b[39;00m \u001b[38;5;28mself\u001b[39m\u001b[38;5;241m.\u001b[39m_load_extension(module_str)\n\u001b[1;32m     63\u001b[0m \u001b[38;5;28;01mexcept\u001b[39;00m \u001b[38;5;167;01mModuleNotFoundError\u001b[39;00m:\n\u001b[1;32m     64\u001b[0m     \u001b[38;5;28;01mif\u001b[39;00m module_str \u001b[38;5;129;01min\u001b[39;00m BUILTINS_EXTS:\n",
                        "File \u001b[0;32m/opt/homebrew/anaconda3/lib/python3.12/site-packages/IPython/core/extensions.py:77\u001b[0m, in \u001b[0;36mExtensionManager._load_extension\u001b[0;34m(self, module_str)\u001b[0m\n\u001b[1;32m     75\u001b[0m \u001b[38;5;28;01mwith\u001b[39;00m \u001b[38;5;28mself\u001b[39m\u001b[38;5;241m.\u001b[39mshell\u001b[38;5;241m.\u001b[39mbuiltin_trap:\n\u001b[1;32m     76\u001b[0m     \u001b[38;5;28;01mif\u001b[39;00m module_str \u001b[38;5;129;01mnot\u001b[39;00m \u001b[38;5;129;01min\u001b[39;00m sys\u001b[38;5;241m.\u001b[39mmodules:\n\u001b[0;32m---> 77\u001b[0m         mod \u001b[38;5;241m=\u001b[39m import_module(module_str)\n\u001b[1;32m     78\u001b[0m     mod \u001b[38;5;241m=\u001b[39m sys\u001b[38;5;241m.\u001b[39mmodules[module_str]\n\u001b[1;32m     79\u001b[0m     \u001b[38;5;28;01mif\u001b[39;00m \u001b[38;5;28mself\u001b[39m\u001b[38;5;241m.\u001b[39m_call_load_ipython_extension(mod):\n",
                        "File \u001b[0;32m/opt/homebrew/anaconda3/lib/python3.12/importlib/__init__.py:90\u001b[0m, in \u001b[0;36mimport_module\u001b[0;34m(name, package)\u001b[0m\n\u001b[1;32m     88\u001b[0m             \u001b[38;5;28;01mbreak\u001b[39;00m\n\u001b[1;32m     89\u001b[0m         level \u001b[38;5;241m+\u001b[39m\u001b[38;5;241m=\u001b[39m \u001b[38;5;241m1\u001b[39m\n\u001b[0;32m---> 90\u001b[0m \u001b[38;5;28;01mreturn\u001b[39;00m _bootstrap\u001b[38;5;241m.\u001b[39m_gcd_import(name[level:], package, level)\n",
                        "File \u001b[0;32m<frozen importlib._bootstrap>:1387\u001b[0m, in \u001b[0;36m_gcd_import\u001b[0;34m(name, package, level)\u001b[0m\n",
                        "File \u001b[0;32m<frozen importlib._bootstrap>:1360\u001b[0m, in \u001b[0;36m_find_and_load\u001b[0;34m(name, import_)\u001b[0m\n",
                        "File \u001b[0;32m<frozen importlib._bootstrap>:1324\u001b[0m, in \u001b[0;36m_find_and_load_unlocked\u001b[0;34m(name, import_)\u001b[0m\n",
                        "\u001b[0;31mModuleNotFoundError\u001b[0m: No module named 'nb_mypy'"
                    ]
                }
            ],
            "source": [
                "%load_ext nb_mypy\n",
                "%nb_mypy On"
            ]
        },
        {
            "cell_type": "code",
            "execution_count": 2,
            "metadata": {
                "cellIdentifier": "7eo5exbpchkla2i4evafq",
                "deletable": false,
                "editable": false,
                "nbgrader": {
                    "grade": false,
                    "locked": true,
                    "solution": false
                }
            },
            "outputs": [],
            "source": [
                "from typing import TypeAlias\n",
                "from typing import Optional, Any, Callable, Iterator, Iterable, cast\n",
                "from __future__ import annotations\n",
                "\n",
                "Number: TypeAlias = int | float"
            ]
        },
        {
            "attachments": {},
            "cell_type": "markdown",
            "metadata": {
                "cellIdentifier": "t3hz8tcq16ne5ztgy63h",
                "colab_type": "text",
                "deletable": false,
                "editable": false,
                "id": "CVpRsTXGBaXa",
                "nbgrader": {
                    "grade": false,
                    "locked": true,
                    "solution": false
                }
            },
            "source": [
                "**HW1.** *Comments:* Write a state machine whose inputs are the characters of a string. The string contains the code for a computer program. The output of the state machine are either:\n",
                "- the input character if it is part of a comment, or\n",
                "- `None`, otherwise.\n",
                "\n",
                "Comment starts with a `#` character and continue to the end of the current line. If you want to create a string that contains a new line character, you can use `\\n`.\n",
                "\n",
                "For example,\n",
                "```\n",
                "inpstr = \"def func(x): # comment\\n    return 1\"\n",
                "m = CommentsSM()\n",
                "print(m.transduce(inpstr))\n",
                "```\n",
                "\n",
                "The expected output is:\n",
                "```\n",
                "[None, None, None, None, None, None, None, None, None, None, None, None, None, \"#\", \" \", \"c\", \"o\", \"m\", \"m\", \"e\", \"n\", \"t\", None, None, None, None, None, None, None, None, None, None, None, None, None]\n",
                "```\n",
                "\n",
                "You should start by drawing a state transition diagram indicating the states and what inputs cause transition to which other states. Use the test case above to determine if your state transition diagram is correct. You should begin writing your program only when you are confident that your diagram is correct. "
            ]
        },
        {
            "cell_type": "code",
            "execution_count": 31,
            "metadata": {
                "cellIdentifier": "g60zsbpfzxsdw1zor36rpt"
            },
            "outputs": [],
            "source": [
                "# Copy over the implementation of StateMachine from Cohort\n",
                "from abc import ABC, abstractmethod\n",
                "\n",
                "class StateMachine(ABC):\n",
                "    def start(self):\n",
                "        self.state = self.start_state\n",
                "    \n",
                "    def step(self, inp):\n",
                "        prev = self.state\n",
                "        cur_state, output = self.get_next_values(prev,inp)\n",
                "        self.state = cur_state\n",
                "        return output\n",
                "        \n",
                "    def transduce(self, inp_list):\n",
                "        self.start()\n",
                "        ret = []\n",
                "        for item in inp_list:\n",
                "            if (self.is_done()):\n",
                "                return ret\n",
                "            ret.append(self.step(item))\n",
                "        print(ret)\n",
                "        return ret\n",
                "        \n",
                "\n",
                "    @property\n",
                "    @abstractmethod\n",
                "    def start_state(self):\n",
                "        pass \n",
                "\n",
                "    @abstractmethod\n",
                "    def get_next_values(self, state, inp):\n",
                "        pass\n",
                "\n",
                "    def done(self, state):\n",
                "        return False\n",
                "\n",
                "    def is_done(self):\n",
                "        return self.done(self.state)\n"
            ]
        },
        {
            "cell_type": "code",
            "execution_count": 51,
            "metadata": {
                "cellIdentifier": "imsemlcrp3gmoh2pw1p1n8",
                "colab": [],
                "colab_type": "code",
                "id": "k4sWVMNYB_b1"
            },
            "outputs": [],
            "source": [
                "class CommentsSM(StateMachine):\n",
                "    \n",
                "    @property\n",
                "    def start_state(self) -> str:\n",
                "        return 0\n",
                "\n",
                "    def get_next_values(self, state: str, inp: str) -> tuple[str, Optional[str]]:\n",
                "        next_state, output = state, None\n",
                "        item = inp\n",
                "        op = None\n",
                "        if (state == 0):\n",
                "            if (item == \"#\"):\n",
                "                next_state = 1\n",
                "                op = item\n",
                "        else:\n",
                "            if (item == '\\n'):\n",
                "                next_state = 0\n",
                "            else:\n",
                "                op = item\n",
                "            \n",
                "        output = op\n",
                "        return next_state, output"
            ]
        },
        {
            "cell_type": "code",
            "execution_count": 52,
            "metadata": {
                "cellIdentifier": "ka6l2ke98mjk6xa7icy1",
                "colab": [],
                "colab_type": "code",
                "deletable": false,
                "editable": false,
                "id": "RvcBzb9dEDSQ",
                "nbgrader": {
                    "grade": true,
                    "grade_id": "hw11",
                    "locked": true,
                    "points": "1",
                    "solution": false
                }
            },
            "outputs": [
                {
                    "name": "stdout",
                    "output_type": "stream",
                    "text": [
                        "[None, None, None, None, None, None, None, None, None, None, None, None, None, '#', ' ', 'c', 'o', 'm', 'm', 'e', 'n', 't', None, None, None, None, None, None, None, None, None, None, None, None, None]\n"
                    ]
                }
            ],
            "source": [
                "inpstr: str = \"def func(x): # comment\\n    return 1\"\n",
                "m: CommentsSM = CommentsSM()\n",
                "out: list[Optional[str]] = m.transduce(inpstr)\n",
                "assert out == [None, None, None, None, None, None, None, None, None, None, None, None, None, \"#\", \" \", \"c\", \"o\", \"m\", \"m\", \"e\", \"n\", \"t\", None, None, None, None, None, None, None, None, None, None, None, None, None]\n",
                "\n",
                "###\n",
                "### AUTOGRADER TEST - DO NOT REMOVE\n",
                "###\n"
            ]
        },
        {
            "cell_type": "code",
            "execution_count": 53,
            "metadata": {
                "cellIdentifier": "5hydeiiqqunu4e9l6fy04",
                "deletable": false,
                "editable": false,
                "nbgrader": {
                    "grade": true,
                    "grade_id": "hw12",
                    "locked": true,
                    "points": "1",
                    "solution": false
                }
            },
            "outputs": [],
            "source": [
                "###\n",
                "### AUTOGRADER TEST - DO NOT REMOVE\n",
                "###\n",
                "\n",
                "###\n",
                "### AUTOGRADER TEST - DO NOT REMOVE\n",
                "###\n"
            ]
        },
        {
            "attachments": {},
            "cell_type": "markdown",
            "metadata": {
                "cellIdentifier": "349a9rblelt105j030cbe4p",
                "colab_type": "text",
                "deletable": false,
                "editable": false,
                "id": "lYlKhFvVEdx0",
                "nbgrader": {
                    "grade": false,
                    "locked": true,
                    "solution": false
                }
            },
            "source": [
                "**HW2.** *First Word:* Write a state machine whose inputs are the characters of a string and which outputs either:\n",
                "- the input character if it is part of the first word on a line, or\n",
                "- `None`, otherwise\n",
                "\n",
                "For the purposes here, a word is any sequence of consecutive characters that does not contain spaces or end-of-line characters. In this problem, comments have no special status. This means that if the line begins with `# `, then the first word is `#`. \n",
                "\n",
                "For example, \n",
                "```\n",
                "inpstr = \"def func(x): # comment\\n    return 1\"\n",
                "m = FirstWordSM()\n",
                "print(m.transduce( inpstr))\n",
                "```\n",
                "\n",
                "The expected output is:\n",
                "```\n",
                "[\"d\", \"e\", \"f\", None, None, None, None, None, None, None, None, None, None, None, None, None, None, None, None, None, None, None, None, None, None, None, None, None, \"r\", \"e\", \"t\", \"u\", \"r\", \"n\", None, None]\n",
                "```"
            ]
        },
        {
            "cell_type": "code",
            "execution_count": 95,
            "metadata": {
                "cellIdentifier": "88ofhwwlap72b8k3ucn6dq",
                "colab": [],
                "colab_type": "code",
                "id": "wbcNeKi1FcEy"
            },
            "outputs": [],
            "source": [
                "class FirstWordSM(StateMachine):\n",
                "  \n",
                "    @property\n",
                "    def start_state(self) -> str:\n",
                "        return -1\n",
                "  \n",
                "    def get_next_values(self, state: str, inp: str) -> tuple[str, Optional[str]]:\n",
                "        next_state, output = state, None\n",
                "        if (state == 1):\n",
                "            if (inp == \" \"):\n",
                "                next_state = 0\n",
                "            elif (inp == \"\\n\"):\n",
                "                next_state = -1\n",
                "                output = None\n",
                "            else:\n",
                "                output = inp\n",
                "        elif (state == -1):\n",
                "            if (inp != \" \" and inp != \"\\n\"):\n",
                "                next_state = 1\n",
                "                output = inp\n",
                "        else:\n",
                "            if (inp == \"\\n\"):\n",
                "                next_state = -1\n",
                "        #print(inp, next_state, output)\n",
                "        return next_state, output"
            ]
        },
        {
            "cell_type": "code",
            "execution_count": 96,
            "metadata": {},
            "outputs": [
                {
                    "name": "stdout",
                    "output_type": "stream",
                    "text": [
                        "['#', None, None, '#', 'w', 'o', 'w', 'i', 'o', None, None, '8', None, None]\n"
                    ]
                }
            ],
            "source": [
                "inpstr: str = \"# \\n#wowio\\n 8 9\"\n",
                "m: FirstWordSM = FirstWordSM()\n",
                "out: list[Optional[str]] = m.transduce(inpstr)"
            ]
        },
        {
            "cell_type": "code",
            "execution_count": 76,
            "metadata": {
                "cellIdentifier": "bbo9eju01ev6g8gcl04hnp",
                "colab": [],
                "colab_type": "code",
                "deletable": false,
                "editable": false,
                "id": "UUN3kvJ5GO_g",
                "nbgrader": {
                    "grade": true,
                    "grade_id": "hw21",
                    "locked": true,
                    "points": "1",
                    "solution": false
                }
            },
            "outputs": [
                {
                    "name": "stdout",
                    "output_type": "stream",
                    "text": [
                        "['d', 'e', 'f', None, None, None, None, None, None, None, None, None, None, None, None, None, None, None, None, None, None, None, None, None, None, None, None, 'r', 'e', 't', 'u', 'r', 'n', None, None]\n"
                    ]
                }
            ],
            "source": [
                "inpstr: str = \"def func(x): # comment\\n    return 1\"\n",
                "m: FirstWordSM = FirstWordSM()\n",
                "out: list[Optional[str]] = m.transduce(inpstr)\n",
                "assert out == [\"d\", \"e\", \"f\", None, None, None, None, None, None, None, None, None, None, None, None, None, None, None, None, None, None, None, None, None, None, None, None, \"r\", \"e\", \"t\", \"u\", \"r\", \"n\", None, None]\n",
                "\n",
                "\n",
                "###\n",
                "### AUTOGRADER TEST - DO NOT REMOVE\n",
                "###\n"
            ]
        },
        {
            "cell_type": "code",
            "execution_count": 61,
            "metadata": {
                "cellIdentifier": "s8umi1qt5klv8p58zxns2",
                "deletable": false,
                "editable": false,
                "nbgrader": {
                    "grade": true,
                    "grade_id": "hw22",
                    "locked": true,
                    "points": "1",
                    "solution": false
                }
            },
            "outputs": [],
            "source": [
                "###\n",
                "### AUTOGRADER TEST - DO NOT REMOVE\n",
                "###\n",
                "\n",
                "###\n",
                "### AUTOGRADER TEST - DO NOT REMOVE\n",
                "###\n"
            ]
        },
        {
            "attachments": {},
            "cell_type": "markdown",
            "metadata": {
                "cellIdentifier": "74r6j8nw14sk8980vfphc",
                "colab_type": "text",
                "deletable": false,
                "editable": false,
                "id": "NnDht41iHHTy",
                "nbgrader": {
                    "grade": false,
                    "locked": true,
                    "solution": false
                }
            },
            "source": [
                "**HW3.** *Robot:* Write a State Machine class that represent a robot. The dimension of the world and the robot initial position should be specified during the class instantiation. The robot can take in the following input:\n",
                "- \"left\"\n",
                "- \"right\"\n",
                "- \"up\"\n",
                "- \"down\"\n",
                "\n",
                "The initial position of the robot is specified during the object instantiation and the input should modify the position of the robot. The robot position must not change if it exceed the boundary. At each step, the robot should output the updated position. "
            ]
        },
        {
            "cell_type": "code",
            "execution_count": 62,
            "metadata": {
                "cellIdentifier": "ldi0h5zpm7haxekz8pfxk",
                "deletable": false,
                "editable": false,
                "nbgrader": {
                    "grade": false,
                    "locked": true,
                    "solution": false
                }
            },
            "outputs": [],
            "source": [
                "class Position:\n",
                "  \n",
                "    def __init__(self, x: int=0, y: int=0) -> None:\n",
                "        self.x: int = x\n",
                "        self.y: int = y\n",
                "  \n",
                "    def __str__(self) -> str:\n",
                "        return f\"({self.x:}, {self.y:})\"\n",
                "\n",
                "class Dimension:\n",
                "\n",
                "    def __init__(self, width: int=0, height: int=0) -> None:\n",
                "        self.width: int = width\n",
                "        self.height: int = height\n",
                "  \n",
                "    def __str__(self) -> str:\n",
                "        return f\"width: {self.width:}, height: {self.height:}\""
            ]
        },
        {
            "cell_type": "code",
            "execution_count": 66,
            "metadata": {
                "cellIdentifier": "8c9bnz7uvfyrbzptwvirh9",
                "colab": [],
                "colab_type": "code",
                "id": "Cpgta89wHKcM"
            },
            "outputs": [],
            "source": [
                "class RobotSM(StateMachine):\n",
                "    @property\n",
                "    def start_state(self) -> Position:\n",
                "        return self.__start_state\n",
                "    \n",
                "    @start_state.setter\n",
                "    def start_state(self, value: Position) -> None:\n",
                "        self.__start_state: Position = value\n",
                "\n",
                "    def __init__(self, init_pos: Position, dimension: Dimension) -> None:\n",
                "        self.world_dim: Dimension = dimension\n",
                "        self.start_state = init_pos\n",
                "  \n",
                "    def get_next_values(self, state: Position, inp: str) -> tuple[Position, Position]:\n",
                "        next_state = state\n",
                "        if (inp == \"left\"):\n",
                "            next_state.x -= 1\n",
                "        elif (inp == \"right\"):\n",
                "            next_state.x += 1\n",
                "        elif (inp == \"up\"):\n",
                "            next_state.y += 1\n",
                "        else:\n",
                "            next_state.y -= 1\n",
                "\n",
                "        next_state.y = min(self.world_dim.height-1, max(0, next_state.y))\n",
                "        next_state.x = min(self.world_dim.width-1, max(0, next_state.x))\n",
                "        \n",
                "        return next_state, next_state"
            ]
        },
        {
            "cell_type": "code",
            "execution_count": 67,
            "metadata": {
                "cellIdentifier": "w2m1co8nfwifihx10obcvf",
                "colab": [],
                "colab_type": "code",
                "deletable": false,
                "editable": false,
                "id": "dAVM6rSCIxDX",
                "nbgrader": {
                    "grade": true,
                    "grade_id": "hw31",
                    "locked": true,
                    "points": "1",
                    "solution": false
                }
            },
            "outputs": [
                {
                    "name": "stdout",
                    "output_type": "stream",
                    "text": [
                        "1 0\n",
                        "2 0\n",
                        "2 1\n",
                        "2 2\n",
                        "2 3\n",
                        "1 3\n",
                        "1 2\n",
                        "[<__main__.Position object at 0x10a143380>, <__main__.Position object at 0x10a143380>, <__main__.Position object at 0x10a143380>, <__main__.Position object at 0x10a143380>, <__main__.Position object at 0x10a143380>, <__main__.Position object at 0x10a143380>, <__main__.Position object at 0x10a143380>]\n"
                    ]
                }
            ],
            "source": [
                "robot: RobotSM = RobotSM(Position(0, 0), Dimension(5, 5))\n",
                "robot.start()\n",
                "robot.transduce([\"right\", \"right\", \"up\", \"up\", \"up\", \"left\", \"down\"])\n",
                "pos: Position = robot.state\n",
                "assert pos.x == 1 and pos.y == 2\n",
                "\n",
                "###\n",
                "### AUTOGRADER TEST - DO NOT REMOVE\n",
                "###\n"
            ]
        },
        {
            "cell_type": "code",
            "execution_count": 15,
            "metadata": {
                "cellIdentifier": "uyuzah03lfqrergbjqeq",
                "deletable": false,
                "editable": false,
                "nbgrader": {
                    "grade": true,
                    "grade_id": "hw32",
                    "locked": true,
                    "points": "1",
                    "solution": false
                }
            },
            "outputs": [],
            "source": [
                "###\n",
                "### AUTOGRADER TEST - DO NOT REMOVE\n",
                "###\n",
                "\n",
                "###\n",
                "### AUTOGRADER TEST - DO NOT REMOVE\n",
                "###\n"
            ]
        },
        {
            "attachments": {},
            "cell_type": "markdown",
            "metadata": {
                "cellIdentifier": "i4uza566xkbh6xid20jt0g",
                "colab_type": "text",
                "deletable": false,
                "editable": false,
                "id": "t4iXOJiNaMMR",
                "nbgrader": {
                    "grade": false,
                    "locked": true,
                    "solution": false
                }
            },
            "source": [
                "**HW4.** *Search SM:* Write a function `sm_search` that takes in the following arguments:\n",
                "- `sm_to_search`: is the State Machine instance to search. This argument is of the type `MapSM` as defined in CS4. You should use the `get_next_values()` of this State Machine instance to explore the next state in your search.\n",
                "- `initial_state`: is the start state of the search. If it is not provided, it should be assigned to the `start_state` of sm_search. \n",
                "- `goal_test`: is a function that returns `True` if the argument is the end state of the search. If it is not provided, it should be eassigned to the `done` function of the state machine.\n",
                "\n",
                "This function performs a **breadth-first-search** algorithm to explore the next states. \n",
                "\n",
                "The output is a `list` of `Step` instances from the `init_state` to the end state which is determined by the `goal_test` function.\n",
                "\n",
                "This problem requires you to complete the following:\n",
                "- `Queue` class from Problem Set 4 HW2.\n",
                "- `MapSM` class in CS4.\n",
                "- `SearchNode` and `Step` classes in CS5."
            ]
        },
        {
            "cell_type": "code",
            "execution_count": 68,
            "metadata": {
                "cellIdentifier": "ejz6u2yat4qb0zx626148q",
                "colab": [],
                "colab_type": "code",
                "id": "jVauNWSLaM9y"
            },
            "outputs": [],
            "source": [
                "class Stack:\n",
                "    def __init__(self) -> None:\n",
                "        self.__items: list[Any] = []\n",
                "        \n",
                "    def push(self, item: Any):\n",
                "        self.__items.append(item)\n",
                "\n",
                "    def pop(self) -> Any:\n",
                "        if (len(self.__items) == 0):\n",
                "            return None\n",
                "        return self.__items.pop()\n",
                "\n",
                "    def peek(self) -> Any:\n",
                "        return self.__items[-1]\n",
                "\n",
                "    @property\n",
                "    def is_empty(self) -> bool:\n",
                "        return (len(self.__items) == 0)\n",
                "\n",
                "    @property\n",
                "    def size(self):\n",
                "        return len(self.__items)\n",
                "\n",
                "\n",
                "\n",
                "class Queue:\n",
                "    def __init__(self) -> None:\n",
                "        self.left_stack: Stack = Stack()\n",
                "        self.right_stack: Stack = Stack()\n",
                "        \n",
                "    def enqueue(self, item: Any):\n",
                "        self.left_stack.push(item)\n",
                "\n",
                "    def dequeue(self) -> Any:\n",
                "        if (self.right_stack.is_empty):\n",
                "            while(self.left_stack.size > 0):\n",
                "                self.right_stack.push(self.left_stack.pop())\n",
                "        return self.right_stack.pop()\n",
                "            \n",
                "\n",
                "    def peek(self) -> Any:\n",
                "        if (self.right_stack.size + self.left_stack.size == 0):\n",
                "            return None\n",
                "        if (self.right_stack.size > 0):\n",
                "            return self.right_stack.peek()\n",
                "        while(self.left_stack.size > 0):\n",
                "            self.right_stack.push(self.left_stack.pop())\n",
                "        return self.right_stack.peek()\n",
                "\n",
                "    @property\n",
                "    def is_empty(self) -> bool:\n",
                "        return (self.left_stack.size + self.right_stack.size == 0)\n",
                "\n",
                "    @property\n",
                "    def size(self):\n",
                "        return self.left_stack.size + self.right_stack.size\n"
            ]
        },
        {
            "cell_type": "code",
            "execution_count": 69,
            "metadata": {
                "cellIdentifier": "37l2sy06yhgmlc19mwsahg",
                "deletable": false,
                "editable": false,
                "nbgrader": {
                    "grade": false,
                    "locked": true,
                    "solution": false
                }
            },
            "outputs": [],
            "source": [
                "from abc import abstractmethod\n",
                "\n",
                "class StateSpaceSearch(StateMachine):\n",
                "    @property\n",
                "    @abstractmethod\n",
                "    def statemap(self):\n",
                "        pass\n",
                "\n",
                "    @property\n",
                "    @abstractmethod\n",
                "    def legal_inputs(self):\n",
                "        pass\n",
                "\n",
                "    @property\n",
                "    def start_state(self):\n",
                "        return self.__start_state\n",
                "    \n",
                "    @start_state.setter\n",
                "    def start_state(self, value):\n",
                "        self.__start_state = value"
            ]
        },
        {
            "cell_type": "code",
            "execution_count": 70,
            "metadata": {
                "cellIdentifier": "g90y3r2s5m7bo6sp9udo6"
            },
            "outputs": [],
            "source": [
                "class MapSM(StateSpaceSearch):\n",
                "        \n",
                "    def __init__(self, start: str) -> None:\n",
                "        self.start_state = start\n",
                "\n",
                "    @property\n",
                "    def statemap(self) -> dict[str, list[str]]:\n",
                "        statemap = {\"S\": [\"A\", \"B\"],\n",
                "                    \"A\": [\"S\", \"C\", \"D\"],\n",
                "                    \"B\": [\"S\", \"D\", \"E\"],\n",
                "                    \"C\": [\"A\", \"F\"],\n",
                "                    \"D\": [\"A\", \"B\", \"F\", \"H\"],\n",
                "                    \"E\": [\"B\", \"H\"],\n",
                "                    \"F\": [\"C\", \"D\", \"G\"],\n",
                "                    \"H\": [\"D\", \"E\", \"G\"],\n",
                "                    \"G\": [\"F\", \"H\"]}\n",
                "        return statemap\n",
                "\n",
                "    @property\n",
                "    def legal_inputs(self) -> set[int]:\n",
                "        n = 0\n",
                "        for key, value in self.statemap.items():\n",
                "            n = max(n, len(value))\n",
                "        \n",
                "        return set(range(0,n))\n",
                "\n",
                "  \n",
                "    def get_next_values(self, state: str, inp: int) -> tuple[str, str]:\n",
                "        neigh = self.statemap[state]\n",
                "        next_state = state\n",
                "        if (len(neigh) > inp):\n",
                "            next_state = neigh[inp]\n",
                "        return next_state, next_state\n",
                "            \n",
                "        \n",
                "            \n",
                "    "
            ]
        },
        {
            "cell_type": "code",
            "execution_count": 71,
            "metadata": {
                "cellIdentifier": "q8dexpva3hxai1abyn04"
            },
            "outputs": [],
            "source": [
                "# Copy over the implementations of Step and SearchNode from Cohort\n",
                "class Step:\n",
                "    def __init__(self, action: Optional[int], state: str) -> None:\n",
                "        self.action: Optional[int] = action\n",
                "        self.state: str = state\n",
                "    \n",
                "    def __eq__(self, other) -> bool:\n",
                "        return self.action == other.action and self.state == other.state\n",
                "  \n",
                "    def __str__(self) -> str:\n",
                "        return f\"action: {self.action:}, state: {self.state:}\"\n",
                "\n",
                "class SearchNode:\n",
                "    def __init__(self, action: Optional[int], state: str, parent: Optional[SearchNode]) -> None:\n",
                "        self.state: str = state\n",
                "        self.action: Optional[int] = action\n",
                "        self.parent: Optional[SearchNode] = parent\n",
                "  \n",
                "    def path(self) -> list[Step]:\n",
                "        if (self.parent == None):\n",
                "            return [Step(self.action, self.state)]\n",
                "        return self.parent.path() + [Step(self.action, self.state)]\n",
                "  \n",
                "    def in_path(self, state: str) -> bool:\n",
                "        if self.state == state:\n",
                "            return True\n",
                "        elif self.parent is None:\n",
                "            return False\n",
                "        else:\n",
                "            return self.parent.in_path(state)\n",
                "  \n",
                "    def __eq__(self, other) -> bool:\n",
                "        if self is None and other is None:\n",
                "            return True\n",
                "        elif self is None:\n",
                "            return False\n",
                "        elif other is None:\n",
                "            return False\n",
                "        else:\n",
                "            return self.state == other.state and self.parent == other.parent and \\\n",
                "                   self.action == other.action\n"
            ]
        },
        {
            "cell_type": "code",
            "execution_count": 72,
            "metadata": {
                "cellIdentifier": "zcqm4uewu6xppoww9qoxc",
                "colab": [],
                "colab_type": "code",
                "id": "5gqajGoo5KdP"
            },
            "outputs": [],
            "source": [
                "def sm_search(sm_to_search: StateSpaceSearch, initial_state: Optional[str]=None, goal_test: Optional[Callable]=None) -> Optional[list[Step]]:\n",
                "    # check if initial_state is provided\n",
                "    # if it is, use it\n",
                "    # otherwise, get the start state of sm_to_search\n",
                "    if initial_state is None:\n",
                "        # replace None to take the start state of sm_to_search\n",
                "        init_state: str = sm_to_search.start_state\n",
                "    else:\n",
                "        init_state = initial_state\n",
                "  \n",
                "    # check if goal_test is provided\n",
                "    # if it is, use it\n",
                "    # otherwise, use the done method as the goal function\n",
                "    # taken from sm_to_search\n",
                "    if goal_test is None:\n",
                "        goal_func: Callable = sm_to_search.done\n",
                "    else:\n",
                "        goal_func = goal_test\n",
                "  \n",
                "    # create a Queue instance to store the node to explore\n",
                "    # replace the None below\n",
                "    agenda = Queue()\n",
                "    ###\n",
                "    ### YOUR CODE HERE\n",
                "    ###\n",
                "  \n",
                "    # if the initial state is the goal state, \n",
                "    # then we are done and exit\n",
                "    if goal_func(init_state):\n",
                "        return [Step(None, init_state)]\n",
                "  \n",
                "    # otherwise, add the current node into the agenda \n",
                "    agenda.enqueue(SearchNode(None, init_state, None))\n",
                "    \n",
                "    # explore as long as the Queue is not empty\n",
                "    while not agenda.is_empty:\n",
                "        \n",
                "        # replace None to take out the parent from the Queue\n",
                "        parent = agenda.dequeue()\n",
                "        \n",
                "        # create a list to keep track which child state have been explored\n",
                "        new_child_state: list[str] = []\n",
                "        \n",
                "        # get all the legal input values\n",
                "        actions: set[int] = sm_to_search.legal_inputs\n",
                "        \n",
                "        #iterate over all legal inputs\n",
                "        for a in actions:\n",
                "            # get the next possible state using the current action\n",
                "            # call get_next_values to get the next state\n",
                "            # replace the None below\n",
                "            new_s = sm_to_search.get_next_values(parent.state, a)[0]\n",
                "            \n",
                "            # create a new search node from the new_s\n",
                "            # replace the None below\n",
                "            new_n = SearchNode(a, new_s, parent)\n",
                "\n",
                "            \n",
                "            # if the new state is the goal state, then we exit and return the path\n",
                "            if goal_func(new_s):\n",
                "                return new_n.path()\n",
                "            \n",
                "            # if the new state is already in the list of new child state, ignore it\n",
                "            elif new_s in new_child_state:\n",
                "                pass\n",
                "            \n",
                "            # if the new state is in the path of the current node, ignore it\n",
                "            elif parent.in_path(new_s):\n",
                "                pass\n",
                "            \n",
                "            # otherwise, add the new state into the list\n",
                "            # and the new node into the Queue\n",
                "            else:\n",
                "                # step 1. add the new state into the new_child_state\n",
                "                new_child_state.append(new_s)\n",
                "                \n",
                "                # step 2. add the new node into the Queue\n",
                "                agenda.enqueue(new_n)\n",
                "                pass\n",
                "    return None"
            ]
        },
        {
            "cell_type": "code",
            "execution_count": 73,
            "metadata": {
                "cellIdentifier": "xgojpn8upgfqgx322mw0ip",
                "colab": {
                    "base_uri": "https://localhost:8080/",
                    "height": 85
                },
                "colab_type": "code",
                "deletable": false,
                "editable": false,
                "id": "xt-3GH5RL6Kj",
                "nbgrader": {
                    "grade": true,
                    "grade_id": "hw41",
                    "locked": true,
                    "points": "1",
                    "solution": false
                },
                "outputId": "4ef5cf2c-c7a2-4581-889a-b5eeadc64429"
            },
            "outputs": [
                {
                    "name": "stdout",
                    "output_type": "stream",
                    "text": [
                        "action: None, state: S\n",
                        "action: 0, state: A\n",
                        "action: 2, state: D\n",
                        "action: 3, state: H\n"
                    ]
                }
            ],
            "source": [
                "mapSM: MapSM = MapSM(\"S\")\n",
                "ans: Optional[list[Step]] = sm_search(mapSM , \"S\" , lambda s: s==\"H\" )\n",
                "assert ans is not None\n",
                "steps: list[tuple[Optional[int], str]] = [(step.action, step.state) for step in ans]\n",
                "assert steps == [(None, \"S\"), (0, \"A\"), (2, \"D\"), (3, \"H\")]\n",
                "for step in ans:\n",
                "    print(step)\n",
                "\n",
                "###\n",
                "### AUTOGRADER TEST - DO NOT REMOVE\n",
                "###\n"
            ]
        },
        {
            "cell_type": "code",
            "execution_count": 74,
            "metadata": {
                "cellIdentifier": "ydv3cl4xhilzdyjblxwc09",
                "deletable": false,
                "editable": false,
                "nbgrader": {
                    "grade": true,
                    "locked": true,
                    "solution": false
                }
            },
            "outputs": [],
            "source": [
                "###\n",
                "### AUTOGRADER TEST - DO NOT REMOVE\n",
                "###\n",
                "###\n",
                "### AUTOGRADER TEST - DO NOT REMOVE\n",
                "###\n"
            ]
        }
    ],
    "metadata": {
        "kernel_id": "874be363-2fa3-41b6-9ab7-b6814c01429f",
        "kernelspec": {
            "display_name": "Python 3.8.5 ('base')",
            "language": "python",
            "name": "python3"
        },
        "language_info": {
            "codemirror_mode": {
                "name": "ipython",
                "version": 3
            },
            "file_extension": ".py",
            "mimetype": "text/x-python",
            "name": "python",
            "nbconvert_exporter": "python",
            "pygments_lexer": "ipython3",
            "version": "3.12.4"
        },
        "vscode": {
            "interpreter": {
                "hash": "ac37b77c3c0f43e60bec193f0626743b91dd65d8d4aeca5713e457ab7e777e4c"
            }
        }
    },
    "nbformat": 4,
    "nbformat_minor": 4
}
