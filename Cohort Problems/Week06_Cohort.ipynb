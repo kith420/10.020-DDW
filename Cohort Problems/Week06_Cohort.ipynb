{
    "cells": [
        {
            "cell_type": "markdown",
            "metadata": {
                "cellIdentifier": "gxb13iwswxg2w78kicg2o2",
                "colab_type": "text",
                "deletable": false,
                "editable": false,
                "id": "S_whx876WuVG",
                "nbgrader": {
                    "grade": false,
                    "locked": true,
                    "solution": false
                }
            },
            "source": [
                "# Week 6 Problem Set\n",
                "\n",
                "## Cohort Sessions"
            ]
        },
        {
            "cell_type": "code",
            "execution_count": 5,
            "metadata": {
                "cellIdentifier": "v2lethykz9mg2amzhs2op"
            },
            "outputs": [
                {
                    "ename": "ModuleNotFoundError",
                    "evalue": "No module named 'nb_mypy'",
                    "output_type": "error",
                    "traceback": [
                        "\u001b[0;31m---------------------------------------------------------------------------\u001b[0m",
                        "\u001b[0;31mModuleNotFoundError\u001b[0m                       Traceback (most recent call last)",
                        "Cell \u001b[0;32mIn[5], line 1\u001b[0m\n\u001b[0;32m----> 1\u001b[0m \u001b[43mget_ipython\u001b[49m\u001b[43m(\u001b[49m\u001b[43m)\u001b[49m\u001b[38;5;241;43m.\u001b[39;49m\u001b[43mrun_line_magic\u001b[49m\u001b[43m(\u001b[49m\u001b[38;5;124;43m'\u001b[39;49m\u001b[38;5;124;43mload_ext\u001b[39;49m\u001b[38;5;124;43m'\u001b[39;49m\u001b[43m,\u001b[49m\u001b[43m \u001b[49m\u001b[38;5;124;43m'\u001b[39;49m\u001b[38;5;124;43mnb_mypy\u001b[39;49m\u001b[38;5;124;43m'\u001b[39;49m\u001b[43m)\u001b[49m\n\u001b[1;32m      2\u001b[0m get_ipython()\u001b[38;5;241m.\u001b[39mrun_line_magic(\u001b[38;5;124m'\u001b[39m\u001b[38;5;124mnb_mypy\u001b[39m\u001b[38;5;124m'\u001b[39m, \u001b[38;5;124m'\u001b[39m\u001b[38;5;124mOn\u001b[39m\u001b[38;5;124m'\u001b[39m)\n",
                        "File \u001b[0;32m~/Documents/SUTD Files/SUTD Term 3/DDW/venv/lib/python3.12/site-packages/IPython/core/interactiveshell.py:2480\u001b[0m, in \u001b[0;36mInteractiveShell.run_line_magic\u001b[0;34m(self, magic_name, line, _stack_depth)\u001b[0m\n\u001b[1;32m   2478\u001b[0m     kwargs[\u001b[38;5;124m'\u001b[39m\u001b[38;5;124mlocal_ns\u001b[39m\u001b[38;5;124m'\u001b[39m] \u001b[38;5;241m=\u001b[39m \u001b[38;5;28mself\u001b[39m\u001b[38;5;241m.\u001b[39mget_local_scope(stack_depth)\n\u001b[1;32m   2479\u001b[0m \u001b[38;5;28;01mwith\u001b[39;00m \u001b[38;5;28mself\u001b[39m\u001b[38;5;241m.\u001b[39mbuiltin_trap:\n\u001b[0;32m-> 2480\u001b[0m     result \u001b[38;5;241m=\u001b[39m \u001b[43mfn\u001b[49m\u001b[43m(\u001b[49m\u001b[38;5;241;43m*\u001b[39;49m\u001b[43margs\u001b[49m\u001b[43m,\u001b[49m\u001b[43m \u001b[49m\u001b[38;5;241;43m*\u001b[39;49m\u001b[38;5;241;43m*\u001b[39;49m\u001b[43mkwargs\u001b[49m\u001b[43m)\u001b[49m\n\u001b[1;32m   2482\u001b[0m \u001b[38;5;66;03m# The code below prevents the output from being displayed\u001b[39;00m\n\u001b[1;32m   2483\u001b[0m \u001b[38;5;66;03m# when using magics with decorator @output_can_be_silenced\u001b[39;00m\n\u001b[1;32m   2484\u001b[0m \u001b[38;5;66;03m# when the last Python token in the expression is a ';'.\u001b[39;00m\n\u001b[1;32m   2485\u001b[0m \u001b[38;5;28;01mif\u001b[39;00m \u001b[38;5;28mgetattr\u001b[39m(fn, magic\u001b[38;5;241m.\u001b[39mMAGIC_OUTPUT_CAN_BE_SILENCED, \u001b[38;5;28;01mFalse\u001b[39;00m):\n",
                        "File \u001b[0;32m~/Documents/SUTD Files/SUTD Term 3/DDW/venv/lib/python3.12/site-packages/IPython/core/magics/extension.py:33\u001b[0m, in \u001b[0;36mExtensionMagics.load_ext\u001b[0;34m(self, module_str)\u001b[0m\n\u001b[1;32m     31\u001b[0m \u001b[38;5;28;01mif\u001b[39;00m \u001b[38;5;129;01mnot\u001b[39;00m module_str:\n\u001b[1;32m     32\u001b[0m     \u001b[38;5;28;01mraise\u001b[39;00m UsageError(\u001b[38;5;124m'\u001b[39m\u001b[38;5;124mMissing module name.\u001b[39m\u001b[38;5;124m'\u001b[39m)\n\u001b[0;32m---> 33\u001b[0m res \u001b[38;5;241m=\u001b[39m \u001b[38;5;28;43mself\u001b[39;49m\u001b[38;5;241;43m.\u001b[39;49m\u001b[43mshell\u001b[49m\u001b[38;5;241;43m.\u001b[39;49m\u001b[43mextension_manager\u001b[49m\u001b[38;5;241;43m.\u001b[39;49m\u001b[43mload_extension\u001b[49m\u001b[43m(\u001b[49m\u001b[43mmodule_str\u001b[49m\u001b[43m)\u001b[49m\n\u001b[1;32m     35\u001b[0m \u001b[38;5;28;01mif\u001b[39;00m res \u001b[38;5;241m==\u001b[39m \u001b[38;5;124m'\u001b[39m\u001b[38;5;124malready loaded\u001b[39m\u001b[38;5;124m'\u001b[39m:\n\u001b[1;32m     36\u001b[0m     \u001b[38;5;28mprint\u001b[39m(\u001b[38;5;124m\"\u001b[39m\u001b[38;5;124mThe \u001b[39m\u001b[38;5;132;01m%s\u001b[39;00m\u001b[38;5;124m extension is already loaded. To reload it, use:\u001b[39m\u001b[38;5;124m\"\u001b[39m \u001b[38;5;241m%\u001b[39m module_str)\n",
                        "File \u001b[0;32m~/Documents/SUTD Files/SUTD Term 3/DDW/venv/lib/python3.12/site-packages/IPython/core/extensions.py:62\u001b[0m, in \u001b[0;36mExtensionManager.load_extension\u001b[0;34m(self, module_str)\u001b[0m\n\u001b[1;32m     55\u001b[0m \u001b[38;5;250m\u001b[39m\u001b[38;5;124;03m\"\"\"Load an IPython extension by its module name.\u001b[39;00m\n\u001b[1;32m     56\u001b[0m \n\u001b[1;32m     57\u001b[0m \u001b[38;5;124;03mReturns the string \"already loaded\" if the extension is already loaded,\u001b[39;00m\n\u001b[1;32m     58\u001b[0m \u001b[38;5;124;03m\"no load function\" if the module doesn't have a load_ipython_extension\u001b[39;00m\n\u001b[1;32m     59\u001b[0m \u001b[38;5;124;03mfunction, or None if it succeeded.\u001b[39;00m\n\u001b[1;32m     60\u001b[0m \u001b[38;5;124;03m\"\"\"\u001b[39;00m\n\u001b[1;32m     61\u001b[0m \u001b[38;5;28;01mtry\u001b[39;00m:\n\u001b[0;32m---> 62\u001b[0m     \u001b[38;5;28;01mreturn\u001b[39;00m \u001b[38;5;28;43mself\u001b[39;49m\u001b[38;5;241;43m.\u001b[39;49m\u001b[43m_load_extension\u001b[49m\u001b[43m(\u001b[49m\u001b[43mmodule_str\u001b[49m\u001b[43m)\u001b[49m\n\u001b[1;32m     63\u001b[0m \u001b[38;5;28;01mexcept\u001b[39;00m \u001b[38;5;167;01mModuleNotFoundError\u001b[39;00m:\n\u001b[1;32m     64\u001b[0m     \u001b[38;5;28;01mif\u001b[39;00m module_str \u001b[38;5;129;01min\u001b[39;00m BUILTINS_EXTS:\n",
                        "File \u001b[0;32m~/Documents/SUTD Files/SUTD Term 3/DDW/venv/lib/python3.12/site-packages/IPython/core/extensions.py:77\u001b[0m, in \u001b[0;36mExtensionManager._load_extension\u001b[0;34m(self, module_str)\u001b[0m\n\u001b[1;32m     75\u001b[0m \u001b[38;5;28;01mwith\u001b[39;00m \u001b[38;5;28mself\u001b[39m\u001b[38;5;241m.\u001b[39mshell\u001b[38;5;241m.\u001b[39mbuiltin_trap:\n\u001b[1;32m     76\u001b[0m     \u001b[38;5;28;01mif\u001b[39;00m module_str \u001b[38;5;129;01mnot\u001b[39;00m \u001b[38;5;129;01min\u001b[39;00m sys\u001b[38;5;241m.\u001b[39mmodules:\n\u001b[0;32m---> 77\u001b[0m         mod \u001b[38;5;241m=\u001b[39m \u001b[43mimport_module\u001b[49m\u001b[43m(\u001b[49m\u001b[43mmodule_str\u001b[49m\u001b[43m)\u001b[49m\n\u001b[1;32m     78\u001b[0m     mod \u001b[38;5;241m=\u001b[39m sys\u001b[38;5;241m.\u001b[39mmodules[module_str]\n\u001b[1;32m     79\u001b[0m     \u001b[38;5;28;01mif\u001b[39;00m \u001b[38;5;28mself\u001b[39m\u001b[38;5;241m.\u001b[39m_call_load_ipython_extension(mod):\n",
                        "File \u001b[0;32m/Library/Frameworks/Python.framework/Versions/3.12/lib/python3.12/importlib/__init__.py:90\u001b[0m, in \u001b[0;36mimport_module\u001b[0;34m(name, package)\u001b[0m\n\u001b[1;32m     88\u001b[0m             \u001b[38;5;28;01mbreak\u001b[39;00m\n\u001b[1;32m     89\u001b[0m         level \u001b[38;5;241m+\u001b[39m\u001b[38;5;241m=\u001b[39m \u001b[38;5;241m1\u001b[39m\n\u001b[0;32m---> 90\u001b[0m \u001b[38;5;28;01mreturn\u001b[39;00m \u001b[43m_bootstrap\u001b[49m\u001b[38;5;241;43m.\u001b[39;49m\u001b[43m_gcd_import\u001b[49m\u001b[43m(\u001b[49m\u001b[43mname\u001b[49m\u001b[43m[\u001b[49m\u001b[43mlevel\u001b[49m\u001b[43m:\u001b[49m\u001b[43m]\u001b[49m\u001b[43m,\u001b[49m\u001b[43m \u001b[49m\u001b[43mpackage\u001b[49m\u001b[43m,\u001b[49m\u001b[43m \u001b[49m\u001b[43mlevel\u001b[49m\u001b[43m)\u001b[49m\n",
                        "File \u001b[0;32m<frozen importlib._bootstrap>:1387\u001b[0m, in \u001b[0;36m_gcd_import\u001b[0;34m(name, package, level)\u001b[0m\n",
                        "File \u001b[0;32m<frozen importlib._bootstrap>:1360\u001b[0m, in \u001b[0;36m_find_and_load\u001b[0;34m(name, import_)\u001b[0m\n",
                        "File \u001b[0;32m<frozen importlib._bootstrap>:1324\u001b[0m, in \u001b[0;36m_find_and_load_unlocked\u001b[0;34m(name, import_)\u001b[0m\n",
                        "\u001b[0;31mModuleNotFoundError\u001b[0m: No module named 'nb_mypy'"
                    ]
                }
            ],
            "source": [
                "%load_ext nb_mypy\n",
                "%nb_mypy On"
            ]
        },
        {
            "cell_type": "code",
            "execution_count": 6,
            "metadata": {
                "cellIdentifier": "jhaz2p55onwr1jfslgn0j",
                "deletable": false,
                "editable": false,
                "nbgrader": {
                    "grade": false,
                    "locked": true,
                    "solution": false
                }
            },
            "outputs": [],
            "source": [
                "from typing import TypeAlias\n",
                "from typing import Optional, Any, Callable, Iterator, Iterable, cast\n",
                "from __future__ import annotations\n",
                "\n",
                "Number: TypeAlias = int | float"
            ]
        },
        {
            "cell_type": "markdown",
            "metadata": {
                "cellIdentifier": "41l53vxvsk2e428rfjl30w",
                "deletable": false,
                "editable": false,
                "nbgrader": {
                    "grade": false,
                    "locked": true,
                    "solution": false
                }
            },
            "source": [
                "**CS1.** *Dictionary:* Implement a Graph using a *Dictionary* where the keys are the Vertices in the Graph and the values (in the the key-value pair) correspond to an Array containing the neighbouring Vertices. For example, let's represent the following graph:\n",
                "```\n",
                "    A -> B\n",
                "    A -> C\n",
                "    B -> C\n",
                "    B -> D\n",
                "    C -> D\n",
                "    D -> C\n",
                "    E -> F\n",
                "    F -> C\n",
                "```\n",
                "Create a Dictionary to represent the graph above."
            ]
        },
        {
            "cell_type": "code",
            "execution_count": 7,
            "metadata": {
                "cellIdentifier": "7chfgp727ud9bhb723mj5p"
            },
            "outputs": [],
            "source": [
                "# replace the None with a dictionary representing the graph\n",
                "graph: Optional[dict[str, list[str]]] = {\"A\": [\"B\", \"C\"], \n",
                "         \"B\": [\"C\", \"D\"],\n",
                "         \"C\": [\"D\"],\n",
                "         \"D\": [\"C\"], \n",
                "         \"E\": [\"F\"],\n",
                "         \"F\": [\"C\"]}"
            ]
        },
        {
            "cell_type": "code",
            "execution_count": 8,
            "metadata": {
                "cellIdentifier": "z7t5i3x4qovu2eibgpq9g",
                "deletable": false,
                "editable": false,
                "nbgrader": {
                    "grade": true,
                    "grade_id": "cs1",
                    "locked": true,
                    "points": "1",
                    "solution": false
                }
            },
            "outputs": [],
            "source": [
                "###\n",
                "### AUTOGRADER TEST - DO NOT REMOVE\n",
                "###\n"
            ]
        },
        {
            "cell_type": "markdown",
            "metadata": {
                "cellIdentifier": "2853ricwn5q36l0vxdr2s",
                "deletable": false,
                "editable": false,
                "nbgrader": {
                    "grade": false,
                    "locked": true,
                    "solution": false
                }
            },
            "source": [
                "**CS2.** Create a function `create_bfs_tree(graph, start, end)`. The function takes in three input arguments. The first one is the graph which is represented as a dictionary in adjacency list described in the earlier cohort questions. The second one is the label of the starting vertex to begin the Breadth-First Search. The third argument is the label of the ending vertex. \n",
                "\n",
                "The function should return a dictionary containing the parent node of each vertex in the path from start to end. For example, Let's say the tree generated is shown below.\n",
                "\n",
                "```\n",
                "A\n",
                "| \\\n",
                "B  D\n",
                "|  |\n",
                "C  E\n",
                "|  |\n",
                "F\n",
                "```\n",
                "\n",
                "The output dictionary should be something like the following.\n",
                "\n",
                "```\n",
                "{'F': 'C', 'C': 'B', 'E':'D', 'B':'A', 'D':'A'}\n",
                "```\n",
                "\n",
                "Note: Feel free to make use of the `get_neighbours()` function from your HW or your own code to get the neighbours from the values of the dictionary."
            ]
        },
        {
            "cell_type": "code",
            "execution_count": 9,
            "metadata": {
                "cellIdentifier": "3qqtkak4nyovr852lai27q"
            },
            "outputs": [],
            "source": [
                "def get_neighbours(graph: dict[str, list[str]], vert: str) -> Optional[list[str]]:\n",
                "    return graph[vert]"
            ]
        },
        {
            "cell_type": "code",
            "execution_count": 10,
            "metadata": {
                "cellIdentifier": "p5y5b3koapeg81o16fv6"
            },
            "outputs": [],
            "source": [
                "def create_bfs_tree(graph: dict[str, list[str]], start: str, end: str) -> dict[str, Optional[str]]:\n",
                "    output: dict[str, Optional[str]] = {'A': None}\n",
                "    visited = [start]\n",
                "    to_explore = [start]\n",
                "    \n",
                "    while (len(to_explore)):\n",
                "        topz = to_explore.pop(0)\n",
                "        neighbours = get_neighbours(graph, topz)\n",
                "        if (neighbours is None):\n",
                "            continue\n",
                "        for neigh in neighbours:\n",
                "            if (neigh in visited):\n",
                "                continue\n",
                "            visited.append(neigh)\n",
                "            to_explore.append(neigh)\n",
                "            output[neigh] = topz\n",
                "    \n",
                "    return output"
            ]
        },
        {
            "cell_type": "code",
            "execution_count": 11,
            "metadata": {
                "cellIdentifier": "h3vbdbny4ciou0n5ctqsr",
                "deletable": false,
                "editable": false,
                "nbgrader": {
                    "grade": true,
                    "grade_id": "cs21",
                    "locked": true,
                    "points": "1",
                    "solution": false
                }
            },
            "outputs": [
                {
                    "name": "stdout",
                    "output_type": "stream",
                    "text": [
                        "{'A': None, 'B': 'A', 'D': 'A', 'C': 'B', 'E': 'D', 'F': 'C'}\n"
                    ]
                }
            ],
            "source": [
                "graph: dict[str, list[str]] = {\"A\": [\"B\", \"D\"],\n",
                "         \"B\": [\"A\", \"C\"],\n",
                "         \"C\": [\"B\", \"D\", \"F\"],\n",
                "         \"D\": [\"A\", \"C\", \"E\"],\n",
                "         \"E\": [\"D\", \"F\"],\n",
                "         \"F\": [\"C\", \"E\"]}\n",
                "\n",
                "output: dict[str, Optional[str]] = create_bfs_tree(graph, \"A\", \"F\")\n",
                "print(output)\n",
                "assert output == {'A': None, 'B': 'A', 'D': 'A', 'C': 'B', 'E': 'D', 'F': 'C'}\n",
                "###\n",
                "### AUTOGRADER TEST - DO NOT REMOVE\n",
                "###\n"
            ]
        },
        {
            "cell_type": "code",
            "execution_count": 12,
            "metadata": {
                "cellIdentifier": "yk6jpbvscypdk4exjkgrxb",
                "deletable": false,
                "editable": false,
                "nbgrader": {
                    "grade": true,
                    "grade_id": "cs22",
                    "locked": true,
                    "points": "1",
                    "solution": false
                }
            },
            "outputs": [],
            "source": [
                "###\n",
                "### AUTOGRADER TEST - DO NOT REMOVE\n",
                "###\n",
                "###\n",
                "### AUTOGRADER TEST - DO NOT REMOVE\n",
                "###\n"
            ]
        },
        {
            "cell_type": "markdown",
            "metadata": {
                "cellIdentifier": "xba2bd86e93m8uizwo6q",
                "deletable": false,
                "editable": false,
                "nbgrader": {
                    "grade": false,
                    "locked": true,
                    "solution": false
                }
            },
            "source": [
                "**CS3.** Create a subclass of `Vertex` called `SearchVertex`. This class has the following additional attributes:\n",
                "- `colour`: which is a mark on the vertex during the search algorithm. It is of String data type and should be set to \"white\" by default.\n",
                "- `d`: which is an Integer denoting the distance from other Vertex to the current Vertex in Breath-First-Search. This is also used to record discovery time in Depth-First-Search. This attribute should be initialized to `sys.maxsize` at the start.\n",
                "- `f`: which is an Integer denoting the final time in Depth-First-Search. This attribute should be initialized to `sys.maxsize` at the start.\n",
                "- `parent`: which is a reference to the parent Vertex object. This attribute should be set to `None` at the start."
            ]
        },
        {
            "cell_type": "code",
            "execution_count": 13,
            "metadata": {
                "cellIdentifier": "yplgua54fgmpca1i7lg4sq"
            },
            "outputs": [],
            "source": [
                "class Vertex:\n",
                "    def __init__(self, id_: str=\"\") -> None:\n",
                "        self.id_: str = id_\n",
                "        self.neighbours: dict[Vertex, Number] = {}\n",
                "    \n",
                "    def add_neighbour(self, nbr_vertex: Vertex, weight: Number=0) -> None:\n",
                "        self.neighbours[nbr_vertex] = weight\n",
                "    \n",
                "    def get_neighbours(self) -> list[Vertex]:\n",
                "        return list(self.neighbours)\n",
                "    \n",
                "    def get_weight(self, neighbour: Vertex) -> Optional[Number]:\n",
                "        return self.neighbours.get(neighbour, None)\n",
                "        #return self.neighbours[neighbour]\n",
                "    \n",
                "    def __eq__(self, other) -> bool:\n",
                "        return self.id_ == other.id_\n",
                "    \n",
                "    def __lt__(self, other) -> bool:\n",
                "        return self.id_ < other.id_\n",
                "    \n",
                "    def __hash__(self) -> int:\n",
                "        return hash(self.id_)\n",
                "    \n",
                "    def __str__(self) -> str:\n",
                "        ret = \"Vertex \" + str(self.id_) + \" is connected to:\"\n",
                "        tek = 0\n",
                "        for vert in self.neighbours:\n",
                "            if (tek == 0):\n",
                "                tek = 1\n",
                "                ret += \" \" + str(vert.id_)\n",
                "            else:\n",
                "                ret += \", \" + str(vert.id_)\n",
                "        #print(ret)\n",
                "        return ret"
            ]
        },
        {
            "cell_type": "code",
            "execution_count": 14,
            "metadata": {},
            "outputs": [],
            "source": [
                "import sys\n",
                "\n",
                "class SearchVertex(Vertex):\n",
                "    def __init__(self, id_: str=\"\") -> None:\n",
                "        super().__init__(id_)\n",
                "        self.colour: str = \"white\"\n",
                "        self.d: int = sys.maxsize\n",
                "        self.f: int = sys.maxsize\n",
                "        self.parent: Vertex = None\n"
            ]
        },
        {
            "cell_type": "code",
            "execution_count": 15,
            "metadata": {
                "cellIdentifier": "j41jk0lkt2mzdb66t5xok",
                "deletable": false,
                "editable": false,
                "nbgrader": {
                    "grade": true,
                    "grade_id": "cs31",
                    "locked": true,
                    "points": "1",
                    "solution": false
                }
            },
            "outputs": [],
            "source": [
                "import sys\n",
                "\n",
                "v:SearchVertex = SearchVertex()\n",
                "assert v.id_ == \"\"\n",
                "assert v.colour == \"white\"\n",
                "assert v.d == sys.maxsize\n",
                "assert v.f == sys.maxsize\n",
                "assert v.parent == None\n",
                "\n",
                "parent_method: Any = getattr(v, 'get_neighbours', None)\n",
                "assert callable(parent_method)\n",
                "parent_method: Any = getattr(v, 'get_weight', None)\n",
                "assert callable(parent_method)\n",
                "\n",
                "###\n",
                "### AUTOGRADER TEST - DO NOT REMOVE\n",
                "###\n"
            ]
        },
        {
            "cell_type": "code",
            "execution_count": null,
            "metadata": {
                "cellIdentifier": "v7n1nghp0c2qdmw02rdyt",
                "deletable": false,
                "editable": false,
                "nbgrader": {
                    "grade": true,
                    "grade_id": "cs32",
                    "locked": true,
                    "points": "1",
                    "solution": false
                }
            },
            "outputs": [],
            "source": [
                "###\n",
                "### AUTOGRADER TEST - DO NOT REMOVE\n",
                "###\n",
                "###\n",
                "### AUTOGRADER TEST - DO NOT REMOVE\n",
                "###\n"
            ]
        },
        {
            "cell_type": "markdown",
            "metadata": {
                "cellIdentifier": "yzxz4z1x2n5prtjb6lvjr",
                "deletable": false,
                "editable": false,
                "nbgrader": {
                    "grade": false,
                    "locked": true,
                    "solution": false
                }
            },
            "source": [
                "**CS4.** Create a class called `SearchGraph` which is a subclass of the class `Graph`. This class should override the method `_create_vertex(id)` and instantiate a `SearchVertex` object instead of `Vertex`."
            ]
        },
        {
            "cell_type": "code",
            "execution_count": 16,
            "metadata": {
                "cellIdentifier": "vjwwu320kzyy08av2qoqp"
            },
            "outputs": [],
            "source": [
                "class Graph:\n",
                "    def __init__(self) -> None:\n",
                "        self.vertices: dict[str, Vertex] = {}\n",
                "        \n",
                "    def _create_vertex(self, id_: str) -> Vertex:\n",
                "        return Vertex(id_)\n",
                "    \n",
                "    def add_vertex(self, id_: str) -> None:\n",
                "        self.vertices[id_] = self._create_vertex(id_)\n",
                "    \n",
                "    def get_vertex(self, id_: str) -> Optional[Vertex]:\n",
                "        if (id_ in self.vertices):\n",
                "            return self.vertices[id_]\n",
                "        return None\n",
                "    \n",
                "    def add_edge(self, start_v: str, end_v: str, weight: Number=0) -> None:\n",
                "        if (self.get_vertex(start_v) is None):\n",
                "            self.add_vertex(start_v)\n",
                "        \n",
                "        if (self.get_vertex(end_v) is None):\n",
                "            self.add_vertex(end_v)\n",
                "        \n",
                "        self.vertices[start_v].add_neighbour(self.get_vertex(end_v))\n",
                "        \n",
                "    def get_neighbours(self, id_: str) -> list[str]:\n",
                "        if (id_ in self.vertices):\n",
                "            ret = []\n",
                "            for vert in self.vertices[id_].neighbours:\n",
                "                ret.append(vert.id_)\n",
                "            return ret\n",
                "        else:\n",
                "            return []\n",
                "    \n",
                "    def __contains__(self, val: str) -> bool:\n",
                "        return val in self.vertices.keys()\n",
                "    \n",
                "    def __iter__(self):\n",
                "        for k,v in self.vertices.items():\n",
                "            yield v \n",
                "        \n",
                "    @property\n",
                "    def num_vertices(self):\n",
                "        return int(len(self.vertices))"
            ]
        },
        {
            "cell_type": "code",
            "execution_count": 17,
            "metadata": {
                "cellIdentifier": "upaxelde21nmaelgpavxo"
            },
            "outputs": [],
            "source": [
                "class SearchGraph(Graph):\n",
                "    def _create_vertex(self, id_):\n",
                "        return SearchVertex(id_)"
            ]
        },
        {
            "cell_type": "code",
            "execution_count": 18,
            "metadata": {
                "cellIdentifier": "wqje0q0fq1qnpaknxfep7k",
                "deletable": false,
                "editable": false,
                "nbgrader": {
                    "grade": true,
                    "grade_id": "cs41",
                    "locked": true,
                    "points": "1",
                    "solution": false
                }
            },
            "outputs": [],
            "source": [
                "g2: SearchGraph = SearchGraph()\n",
                "g2.add_vertex(\"Z\")\n",
                "assert(type(g2.vertices[\"Z\"]) == type(SearchVertex()))\n",
                "###\n",
                "### AUTOGRADER TEST - DO NOT REMOVE\n",
                "###\n"
            ]
        },
        {
            "cell_type": "code",
            "execution_count": 19,
            "metadata": {
                "cellIdentifier": "0ydswwzcz8cdmk41aqqoze",
                "deletable": false,
                "editable": false,
                "nbgrader": {
                    "grade": true,
                    "grade_id": "cs42",
                    "locked": true,
                    "points": "1",
                    "solution": false
                }
            },
            "outputs": [],
            "source": [
                "###\n",
                "### AUTOGRADER TEST - DO NOT REMOVE\n",
                "###\n",
                "###\n",
                "### AUTOGRADER TEST - DO NOT REMOVE\n",
                "###\n"
            ]
        },
        {
            "cell_type": "markdown",
            "metadata": {
                "cellIdentifier": "ky76vhdx7tp80hrx2w2w",
                "deletable": false,
                "editable": false,
                "nbgrader": {
                    "grade": false,
                    "locked": true,
                    "solution": false
                }
            },
            "source": [
                "**CS5.** Create a class `TraverseGraph` which takes in an object `SearchGraph` for its initialization. The class should have the following methods:\n",
                "- `clear_vertices()`: which sets the attributes f all the vertices:\n",
                "  - `colour` to \"white\"\n",
                "  - `d` to `sys.maxsize`\n",
                "  - `f` to `sys.maxsize`\n",
                "  - `parent` to `None`.\n",
                " \n",
                "\n",
                "\n"
            ]
        },
        {
            "cell_type": "code",
            "execution_count": 20,
            "metadata": {
                "cellIdentifier": "5whd7atraskoydfm0van7"
            },
            "outputs": [],
            "source": [
                "import sys\n",
                "\n",
                "class TraverseGraph:\n",
                "    def __init__(self, g: SearchGraph) -> None:\n",
                "        self.graph = g\n",
                "    \n",
                "    def clear_vertices(self) -> None:\n",
                "        for vert in self.graph.vertices.values():\n",
                "            vert.colour = \"white\"\n",
                "            vert.d = sys.maxsize\n",
                "            vert.f = sys.maxsize\n",
                "            vert.parent = None\n",
                "    \n",
                "    def __iter__(self) -> Iterator:\n",
                "        return iter([v for v in self.graph])\n",
                "    \n",
                "    def __len__(self) -> int:\n",
                "        return len([v for v in self.graph.vertices])"
            ]
        },
        {
            "cell_type": "code",
            "execution_count": 21,
            "metadata": {
                "cellIdentifier": "f11a1b1p7ggz7wydh845vh",
                "deletable": false,
                "editable": false,
                "nbgrader": {
                    "grade": true,
                    "grade_id": "cs51",
                    "locked": true,
                    "points": "1",
                    "solution": false
                }
            },
            "outputs": [],
            "source": [
                "g4: SearchGraph = SearchGraph()\n",
                "g4.add_vertex(\"A\")\n",
                "g4.add_vertex(\"B\")\n",
                "g4.add_vertex(\"C\")\n",
                "g4.add_vertex(\"D\")\n",
                "g4.add_vertex(\"E\")\n",
                "g4.add_vertex(\"F\")\n",
                "g4.add_edge(\"A\", \"B\")\n",
                "g4.add_edge(\"A\", \"C\")\n",
                "g4.add_edge(\"B\", \"C\")\n",
                "g4.add_edge(\"B\", \"D\")\n",
                "g4.add_edge(\"C\", \"D\")\n",
                "g4.add_edge(\"D\", \"C\")\n",
                "g4.add_edge(\"E\", \"F\")\n",
                "g4.add_edge(\"F\", \"C\")\n",
                "gs4: TraverseGraph = TraverseGraph(g4)\n",
                "gs4.clear_vertices()\n",
                "\n",
                "assert len(gs4) == 6\n",
                "assert [v.id_ for v in gs4] == [\"A\", \"B\", \"C\", \"D\", \"E\", \"F\"]\n",
                "assert [v.colour for v in gs4] == [\"white\" for v in range(len(gs4))]\n",
                "assert [v.d for v in gs4] == [sys.maxsize for v in range(len(gs4))]\n",
                "assert [v.f for v in gs4] == [sys.maxsize for v in range(len(gs4))]\n",
                "assert [v.parent for v in gs4] == [None for v in range(len(gs4))]\n",
                "###\n",
                "### AUTOGRADER TEST - DO NOT REMOVE\n",
                "###\n"
            ]
        },
        {
            "cell_type": "code",
            "execution_count": 22,
            "metadata": {
                "cellIdentifier": "c85dj7qng04zxqsyum9jk",
                "deletable": false,
                "editable": false,
                "nbgrader": {
                    "grade": true,
                    "grade_id": "cs52",
                    "locked": true,
                    "points": "1",
                    "solution": false
                }
            },
            "outputs": [],
            "source": [
                "###\n",
                "### AUTOGRADER TEST - DO NOT REMOVE\n",
                "###\n",
                "###\n",
                "### AUTOGRADER TEST - DO NOT REMOVE\n",
                "###\n"
            ]
        },
        {
            "cell_type": "markdown",
            "metadata": {
                "cellIdentifier": "jxcal50cxxqu62ev3ci6b7",
                "deletable": false,
                "editable": false,
                "nbgrader": {
                    "grade": false,
                    "locked": true,
                    "solution": false
                }
            },
            "source": [
                "**CS6.** Create a class `TraverseBFS` which is a subclass of `TraverseGraph`. This subclass should implement the Breadth First Search algorithm in the following methods:\n",
                "\n",
                "- `search_from(start)`: which initializes the `d` and `parent` attributes of each vertices in the graph from the `start` Vertex following Breadth-First-Search algorithm. Use your previous code that implements `Queue` data structure. \n",
                "- `get_shortest_path(start, dest)`: which returns a list of vertex ids that forms a shortest path from Vertex `start` to Vertex `dest`. This method should call `get_path()` (see next method in the list) and pass on an empty list as one of the input arguments. The method `get_path()` will populate this list if there is a path. \n",
                "    - If the path list is empty after calling `get_path()`, this means that either the starting vertex or the destination vertex do not exist in the grapth. In this case, exit the function returning a `None` object.\n",
                "    - If the path list is not empty, it will either contain `No Path` as one of the items or a list of vertices that gives the path from the starting vertex to the destination vertex. In this case, simply return the list as it is. \n",
                "- `get_path(start, dest, result)`: which modifies the input list `result`. \n",
                "    - This method should first check whether the starting vertex and the destination vertex exist in the grapth. If they do not exist in either case, the method should exit returning a `None` object. \n",
                "    - If the starting and destination vertex exist in the graph, this method should call `search_from()` when the distance at `start` Vertex is not zero. A non-zero distance at the starting vertex means that we have not run the BFS algorithm from that starting vertex.\n",
                "    - if the destination and the starting vertex are the same, modify the `result` list with this one vertex. This means that we have found the path that consists of only one vertex. \n",
                "    - if the destination vertex has no parent, this means there is no path. Add `No Path` string into the `result` list. \n",
                "    - otherwise, recursively call `get_path()` and add the result into the `result` list. "
            ]
        },
        {
            "cell_type": "code",
            "execution_count": 23,
            "metadata": {
                "cellIdentifier": "nypxuns3jalnfcmpxvj6t9"
            },
            "outputs": [],
            "source": [
                "class Stack:\n",
                "    def __init__(self) -> None:\n",
                "        self.__items: list[Any] = []\n",
                "        \n",
                "    def push(self, item: Any):\n",
                "        self.__items.append(item)\n",
                "\n",
                "    def pop(self) -> Any:\n",
                "        if (len(self.__items) == 0):\n",
                "            return None\n",
                "        return self.__items.pop()\n",
                "\n",
                "    def peek(self) -> Any:\n",
                "        return self.__items[-1]\n",
                "\n",
                "    @property\n",
                "    def is_empty(self) -> bool:\n",
                "        return (len(self.__items) == 0)\n",
                "\n",
                "    @property\n",
                "    def size(self):\n",
                "        return len(self.__items)\n",
                "\n",
                "\n",
                "\n",
                "class Queue:\n",
                "    def __init__(self) -> None:\n",
                "        self.left_stack: Stack = Stack()\n",
                "        self.right_stack: Stack = Stack()\n",
                "        \n",
                "    def enqueue(self, item: Any):\n",
                "        self.left_stack.push(item)\n",
                "\n",
                "    def dequeue(self) -> Any:\n",
                "        if (self.right_stack.is_empty):\n",
                "            while(self.left_stack.size > 0):\n",
                "                self.right_stack.push(self.left_stack.pop())\n",
                "        return self.right_stack.pop()\n",
                "            \n",
                "\n",
                "    def peek(self) -> Any:\n",
                "        if (self.right_stack.size + self.left_stack.size == 0):\n",
                "            return None\n",
                "        if (self.right_stack.size > 0):\n",
                "            return self.right_stack.peek()\n",
                "        while(self.left_stack.size > 0):\n",
                "            self.right_stack.push(self.left_stack.pop())\n",
                "        return self.right_stack.peek()\n",
                "\n",
                "    @property\n",
                "    def is_empty(self) -> bool:\n",
                "        return (self.left_stack.size + self.right_stack.size == 0)\n",
                "\n",
                "    @property\n",
                "    def size(self):\n",
                "        return self.left_stack.size + self.right_stack.size"
            ]
        },
        {
            "cell_type": "code",
            "execution_count": 24,
            "metadata": {
                "cellIdentifier": "0u6ppvkx69zj8pvbtdczn5q"
            },
            "outputs": [],
            "source": [
                "class TraverseBFS(TraverseGraph):\n",
                "\n",
                "    def search_from(self, start: str) -> None:\n",
                "        self.clear_vertices()\n",
                "        start_v = self.graph.get_vertex(start)\n",
                "        if (start_v is None):\n",
                "            return None\n",
                "\n",
                "        start_v.colour, start_v.d, start_v.parent = \"grey\", 0, None\n",
                "        queue = Queue()\n",
                "        queue.enqueue(start_v)\n",
                "        \n",
                "        while queue.size:\n",
                "            top_v = queue.dequeue()\n",
                "            for nx in top_v.get_neighbours():\n",
                "                if (nx.colour == \"white\"):\n",
                "                    queue.enqueue(nx)\n",
                "                    nx.d = top_v.d + 1\n",
                "                    nx.colour = \"grey\"\n",
                "                    nx.parent = top_v\n",
                "            top_v.colour = \"black\"\n",
                "            \n",
                "    \n",
                "    def get_shortest_path(self, start: str, dest: str) -> Optional[list[str]]:\n",
                "        ret = []\n",
                "        self.get_path(start, dest, ret)\n",
                "        \n",
                "        if (ret == []):\n",
                "            return None\n",
                "        #print(ret)\n",
                "        return ret\n",
                "    \n",
                "    def get_path(self, start: str, dest: str, result: list[str]) -> None:\n",
                "        if (self.graph.get_vertex(start) is None):\n",
                "            return None\n",
                "        if (self.graph.get_vertex(dest) is None):\n",
                "            return None\n",
                "\n",
                "        start_v = self.graph.get_vertex(start)\n",
                "        dest_v = self.graph.get_vertex(dest)\n",
                "        if (start_v.d != 0):\n",
                "            self.search_from(start)\n",
                "        \n",
                "        if (start == dest):\n",
                "            result.append(start)\n",
                "        elif (dest_v.parent is None):\n",
                "            result.append(\"No Path\")\n",
                "        else:\n",
                "            self.get_path(start, dest_v.parent.id_, result)\n",
                "            result.append(dest)\n"
            ]
        },
        {
            "cell_type": "code",
            "execution_count": 25,
            "metadata": {
                "cellIdentifier": "8ft0vvfmaqqg8cmngknkpk",
                "deletable": false,
                "editable": false,
                "nbgrader": {
                    "grade": true,
                    "grade_id": "cs61",
                    "locked": true,
                    "points": "1",
                    "solution": false
                }
            },
            "outputs": [],
            "source": [
                "g4: SearchGraph = SearchGraph()\n",
                "g4.add_vertex(\"A\")\n",
                "g4.add_vertex(\"B\")\n",
                "g4.add_vertex(\"C\")\n",
                "g4.add_vertex(\"D\")\n",
                "g4.add_vertex(\"E\")\n",
                "g4.add_vertex(\"F\")\n",
                "g4.add_edge(\"A\", \"B\")\n",
                "g4.add_edge(\"A\", \"C\")\n",
                "g4.add_edge(\"B\", \"C\")\n",
                "g4.add_edge(\"B\", \"D\")\n",
                "g4.add_edge(\"C\", \"D\")\n",
                "g4.add_edge(\"D\", \"C\")\n",
                "g4.add_edge(\"E\", \"F\")\n",
                "g4.add_edge(\"F\", \"C\")\n",
                "gs4: TraverseBFS = TraverseBFS(g4)\n",
                "\n",
                "gs4.search_from(\"A\")\n",
                "assert cast(SearchVertex, gs4.graph.get_vertex(\"A\")).d == 0\n",
                "assert cast(SearchVertex, gs4.graph.get_vertex(\"A\")).colour == \"black\"\n",
                "assert cast(SearchVertex, gs4.graph.get_vertex(\"A\")).parent == None\n",
                "assert cast(SearchVertex, gs4.graph.get_vertex(\"B\")).d == 1\n",
                "assert cast(SearchVertex, gs4.graph.get_vertex(\"B\")).colour == \"black\"\n",
                "assert cast(SearchVertex, gs4.graph.get_vertex(\"B\")).parent == gs4.graph.get_vertex(\"A\")\n",
                "assert cast(SearchVertex, gs4.graph.get_vertex(\"C\")).d == 1\n",
                "assert cast(SearchVertex, gs4.graph.get_vertex(\"C\")).colour == \"black\"\n",
                "assert cast(SearchVertex, gs4.graph.get_vertex(\"C\")).parent == gs4.graph.get_vertex(\"A\")\n",
                "assert cast(SearchVertex, gs4.graph.get_vertex(\"D\")).d == 2\n",
                "assert cast(SearchVertex, gs4.graph.get_vertex(\"D\")).colour == \"black\"\n",
                "cast(SearchVertex, gs4.graph.get_vertex(\"D\")).parent\n",
                "#assert gs4.graph.get_vertex(\"D\").parent == gs4.graph.get_vertex(\"B\")\n",
                "ans: Optional[list[str]] = gs4.get_shortest_path(\"A\", \"D\")\n",
                "assert ans == [\"A\", \"B\", \"D\"]\n",
                "ans: Optional[list[str]] = gs4.get_shortest_path(\"E\", \"D\")\n",
                "assert ans == [\"E\", \"F\", \"C\", \"D\"]\n",
                "###\n",
                "### AUTOGRADER TEST - DO NOT REMOVE\n",
                "###\n"
            ]
        },
        {
            "cell_type": "code",
            "execution_count": null,
            "metadata": {
                "cellIdentifier": "kebfy3bmkflpw0eivlwv",
                "deletable": false,
                "editable": false,
                "nbgrader": {
                    "grade": true,
                    "locked": true,
                    "solution": false
                }
            },
            "outputs": [],
            "source": [
                "###\n",
                "### AUTOGRADER TEST - DO NOT REMOVE\n",
                "###\n",
                "###\n",
                "### AUTOGRADER TEST - DO NOT REMOVE\n",
                "###\n"
            ]
        }
    ],
    "metadata": {
        "colab": {
            "authorship_tag": "ABX9TyMFMqVWcyy6ppXAKkZCjU2p",
            "collapsed_sections": [],
            "include_colab_link": true,
            "name": "Week06_ProblemSet.ipynb",
            "provenance": []
        },
        "kernel_id": "fbfd8294-4b9b-4d05-9426-89b1ff1824c1",
        "kernelspec": {
            "display_name": "Python 3 [3.10]",
            "language": "python",
            "name": "python3"
        },
        "language_info": {
            "codemirror_mode": {
                "name": "ipython",
                "version": 3
            },
            "file_extension": ".py",
            "mimetype": "text/x-python",
            "name": "python",
            "nbconvert_exporter": "python",
            "pygments_lexer": "ipython3",
            "version": "3.12.1"
        },
        "vscode": {
            "interpreter": {
                "hash": "ac37b77c3c0f43e60bec193f0626743b91dd65d8d4aeca5713e457ab7e777e4c"
            }
        }
    },
    "nbformat": 4,
    "nbformat_minor": 4
}
