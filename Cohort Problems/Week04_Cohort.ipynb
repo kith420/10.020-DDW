{
    "cells": [
        {
            "cell_type": "markdown",
            "metadata": {
                "cellIdentifier": "vvfjrkxjbwbyepqj1tg3m",
                "colab_type": "text",
                "deletable": false,
                "editable": false,
                "id": "gzjE5NwZrqz0",
                "nbgrader": {
                    "grade": false,
                    "locked": true,
                    "solution": false
                }
            },
            "source": [
                "# Week 4 Problem Set\n",
                "\n",
                "## Cohort Sessions"
            ]
        },
        {
            "cell_type": "code",
            "execution_count": 24,
            "metadata": {
                "cellIdentifier": "tylraxoscadt8sm2877p6"
            },
            "outputs": [
                {
                    "ename": "ModuleNotFoundError",
                    "evalue": "No module named 'nb_mypy'",
                    "output_type": "error",
                    "traceback": [
                        "\u001b[0;31m---------------------------------------------------------------------------\u001b[0m",
                        "\u001b[0;31mModuleNotFoundError\u001b[0m                       Traceback (most recent call last)",
                        "Cell \u001b[0;32mIn[24], line 1\u001b[0m\n\u001b[0;32m----> 1\u001b[0m \u001b[43mget_ipython\u001b[49m\u001b[43m(\u001b[49m\u001b[43m)\u001b[49m\u001b[38;5;241;43m.\u001b[39;49m\u001b[43mrun_line_magic\u001b[49m\u001b[43m(\u001b[49m\u001b[38;5;124;43m'\u001b[39;49m\u001b[38;5;124;43mload_ext\u001b[39;49m\u001b[38;5;124;43m'\u001b[39;49m\u001b[43m,\u001b[49m\u001b[43m \u001b[49m\u001b[38;5;124;43m'\u001b[39;49m\u001b[38;5;124;43mnb_mypy\u001b[39;49m\u001b[38;5;124;43m'\u001b[39;49m\u001b[43m)\u001b[49m\n\u001b[1;32m      2\u001b[0m get_ipython()\u001b[38;5;241m.\u001b[39mrun_line_magic(\u001b[38;5;124m'\u001b[39m\u001b[38;5;124mnb_mypy\u001b[39m\u001b[38;5;124m'\u001b[39m, \u001b[38;5;124m'\u001b[39m\u001b[38;5;124mOn\u001b[39m\u001b[38;5;124m'\u001b[39m)\n",
                        "File \u001b[0;32m~/Documents/SUTD Files/SUTD Term 3/DDW/venv/lib/python3.12/site-packages/IPython/core/interactiveshell.py:2480\u001b[0m, in \u001b[0;36mInteractiveShell.run_line_magic\u001b[0;34m(self, magic_name, line, _stack_depth)\u001b[0m\n\u001b[1;32m   2478\u001b[0m     kwargs[\u001b[38;5;124m'\u001b[39m\u001b[38;5;124mlocal_ns\u001b[39m\u001b[38;5;124m'\u001b[39m] \u001b[38;5;241m=\u001b[39m \u001b[38;5;28mself\u001b[39m\u001b[38;5;241m.\u001b[39mget_local_scope(stack_depth)\n\u001b[1;32m   2479\u001b[0m \u001b[38;5;28;01mwith\u001b[39;00m \u001b[38;5;28mself\u001b[39m\u001b[38;5;241m.\u001b[39mbuiltin_trap:\n\u001b[0;32m-> 2480\u001b[0m     result \u001b[38;5;241m=\u001b[39m \u001b[43mfn\u001b[49m\u001b[43m(\u001b[49m\u001b[38;5;241;43m*\u001b[39;49m\u001b[43margs\u001b[49m\u001b[43m,\u001b[49m\u001b[43m \u001b[49m\u001b[38;5;241;43m*\u001b[39;49m\u001b[38;5;241;43m*\u001b[39;49m\u001b[43mkwargs\u001b[49m\u001b[43m)\u001b[49m\n\u001b[1;32m   2482\u001b[0m \u001b[38;5;66;03m# The code below prevents the output from being displayed\u001b[39;00m\n\u001b[1;32m   2483\u001b[0m \u001b[38;5;66;03m# when using magics with decorator @output_can_be_silenced\u001b[39;00m\n\u001b[1;32m   2484\u001b[0m \u001b[38;5;66;03m# when the last Python token in the expression is a ';'.\u001b[39;00m\n\u001b[1;32m   2485\u001b[0m \u001b[38;5;28;01mif\u001b[39;00m \u001b[38;5;28mgetattr\u001b[39m(fn, magic\u001b[38;5;241m.\u001b[39mMAGIC_OUTPUT_CAN_BE_SILENCED, \u001b[38;5;28;01mFalse\u001b[39;00m):\n",
                        "File \u001b[0;32m~/Documents/SUTD Files/SUTD Term 3/DDW/venv/lib/python3.12/site-packages/IPython/core/magics/extension.py:33\u001b[0m, in \u001b[0;36mExtensionMagics.load_ext\u001b[0;34m(self, module_str)\u001b[0m\n\u001b[1;32m     31\u001b[0m \u001b[38;5;28;01mif\u001b[39;00m \u001b[38;5;129;01mnot\u001b[39;00m module_str:\n\u001b[1;32m     32\u001b[0m     \u001b[38;5;28;01mraise\u001b[39;00m UsageError(\u001b[38;5;124m'\u001b[39m\u001b[38;5;124mMissing module name.\u001b[39m\u001b[38;5;124m'\u001b[39m)\n\u001b[0;32m---> 33\u001b[0m res \u001b[38;5;241m=\u001b[39m \u001b[38;5;28;43mself\u001b[39;49m\u001b[38;5;241;43m.\u001b[39;49m\u001b[43mshell\u001b[49m\u001b[38;5;241;43m.\u001b[39;49m\u001b[43mextension_manager\u001b[49m\u001b[38;5;241;43m.\u001b[39;49m\u001b[43mload_extension\u001b[49m\u001b[43m(\u001b[49m\u001b[43mmodule_str\u001b[49m\u001b[43m)\u001b[49m\n\u001b[1;32m     35\u001b[0m \u001b[38;5;28;01mif\u001b[39;00m res \u001b[38;5;241m==\u001b[39m \u001b[38;5;124m'\u001b[39m\u001b[38;5;124malready loaded\u001b[39m\u001b[38;5;124m'\u001b[39m:\n\u001b[1;32m     36\u001b[0m     \u001b[38;5;28mprint\u001b[39m(\u001b[38;5;124m\"\u001b[39m\u001b[38;5;124mThe \u001b[39m\u001b[38;5;132;01m%s\u001b[39;00m\u001b[38;5;124m extension is already loaded. To reload it, use:\u001b[39m\u001b[38;5;124m\"\u001b[39m \u001b[38;5;241m%\u001b[39m module_str)\n",
                        "File \u001b[0;32m~/Documents/SUTD Files/SUTD Term 3/DDW/venv/lib/python3.12/site-packages/IPython/core/extensions.py:62\u001b[0m, in \u001b[0;36mExtensionManager.load_extension\u001b[0;34m(self, module_str)\u001b[0m\n\u001b[1;32m     55\u001b[0m \u001b[38;5;250m\u001b[39m\u001b[38;5;124;03m\"\"\"Load an IPython extension by its module name.\u001b[39;00m\n\u001b[1;32m     56\u001b[0m \n\u001b[1;32m     57\u001b[0m \u001b[38;5;124;03mReturns the string \"already loaded\" if the extension is already loaded,\u001b[39;00m\n\u001b[1;32m     58\u001b[0m \u001b[38;5;124;03m\"no load function\" if the module doesn't have a load_ipython_extension\u001b[39;00m\n\u001b[1;32m     59\u001b[0m \u001b[38;5;124;03mfunction, or None if it succeeded.\u001b[39;00m\n\u001b[1;32m     60\u001b[0m \u001b[38;5;124;03m\"\"\"\u001b[39;00m\n\u001b[1;32m     61\u001b[0m \u001b[38;5;28;01mtry\u001b[39;00m:\n\u001b[0;32m---> 62\u001b[0m     \u001b[38;5;28;01mreturn\u001b[39;00m \u001b[38;5;28;43mself\u001b[39;49m\u001b[38;5;241;43m.\u001b[39;49m\u001b[43m_load_extension\u001b[49m\u001b[43m(\u001b[49m\u001b[43mmodule_str\u001b[49m\u001b[43m)\u001b[49m\n\u001b[1;32m     63\u001b[0m \u001b[38;5;28;01mexcept\u001b[39;00m \u001b[38;5;167;01mModuleNotFoundError\u001b[39;00m:\n\u001b[1;32m     64\u001b[0m     \u001b[38;5;28;01mif\u001b[39;00m module_str \u001b[38;5;129;01min\u001b[39;00m BUILTINS_EXTS:\n",
                        "File \u001b[0;32m~/Documents/SUTD Files/SUTD Term 3/DDW/venv/lib/python3.12/site-packages/IPython/core/extensions.py:77\u001b[0m, in \u001b[0;36mExtensionManager._load_extension\u001b[0;34m(self, module_str)\u001b[0m\n\u001b[1;32m     75\u001b[0m \u001b[38;5;28;01mwith\u001b[39;00m \u001b[38;5;28mself\u001b[39m\u001b[38;5;241m.\u001b[39mshell\u001b[38;5;241m.\u001b[39mbuiltin_trap:\n\u001b[1;32m     76\u001b[0m     \u001b[38;5;28;01mif\u001b[39;00m module_str \u001b[38;5;129;01mnot\u001b[39;00m \u001b[38;5;129;01min\u001b[39;00m sys\u001b[38;5;241m.\u001b[39mmodules:\n\u001b[0;32m---> 77\u001b[0m         mod \u001b[38;5;241m=\u001b[39m \u001b[43mimport_module\u001b[49m\u001b[43m(\u001b[49m\u001b[43mmodule_str\u001b[49m\u001b[43m)\u001b[49m\n\u001b[1;32m     78\u001b[0m     mod \u001b[38;5;241m=\u001b[39m sys\u001b[38;5;241m.\u001b[39mmodules[module_str]\n\u001b[1;32m     79\u001b[0m     \u001b[38;5;28;01mif\u001b[39;00m \u001b[38;5;28mself\u001b[39m\u001b[38;5;241m.\u001b[39m_call_load_ipython_extension(mod):\n",
                        "File \u001b[0;32m/Library/Frameworks/Python.framework/Versions/3.12/lib/python3.12/importlib/__init__.py:90\u001b[0m, in \u001b[0;36mimport_module\u001b[0;34m(name, package)\u001b[0m\n\u001b[1;32m     88\u001b[0m             \u001b[38;5;28;01mbreak\u001b[39;00m\n\u001b[1;32m     89\u001b[0m         level \u001b[38;5;241m+\u001b[39m\u001b[38;5;241m=\u001b[39m \u001b[38;5;241m1\u001b[39m\n\u001b[0;32m---> 90\u001b[0m \u001b[38;5;28;01mreturn\u001b[39;00m \u001b[43m_bootstrap\u001b[49m\u001b[38;5;241;43m.\u001b[39;49m\u001b[43m_gcd_import\u001b[49m\u001b[43m(\u001b[49m\u001b[43mname\u001b[49m\u001b[43m[\u001b[49m\u001b[43mlevel\u001b[49m\u001b[43m:\u001b[49m\u001b[43m]\u001b[49m\u001b[43m,\u001b[49m\u001b[43m \u001b[49m\u001b[43mpackage\u001b[49m\u001b[43m,\u001b[49m\u001b[43m \u001b[49m\u001b[43mlevel\u001b[49m\u001b[43m)\u001b[49m\n",
                        "File \u001b[0;32m<frozen importlib._bootstrap>:1387\u001b[0m, in \u001b[0;36m_gcd_import\u001b[0;34m(name, package, level)\u001b[0m\n",
                        "File \u001b[0;32m<frozen importlib._bootstrap>:1360\u001b[0m, in \u001b[0;36m_find_and_load\u001b[0;34m(name, import_)\u001b[0m\n",
                        "File \u001b[0;32m<frozen importlib._bootstrap>:1324\u001b[0m, in \u001b[0;36m_find_and_load_unlocked\u001b[0;34m(name, import_)\u001b[0m\n",
                        "\u001b[0;31mModuleNotFoundError\u001b[0m: No module named 'nb_mypy'"
                    ]
                }
            ],
            "source": [
                "%load_ext nb_mypy\n",
                "%nb_mypy On"
            ]
        },
        {
            "cell_type": "code",
            "execution_count": 42,
            "metadata": {
                "cellIdentifier": "juhh88ysdnoy5hj15wucj",
                "deletable": false,
                "editable": false,
                "nbgrader": {
                    "grade": false,
                    "locked": true,
                    "solution": false
                }
            },
            "outputs": [],
            "source": [
                "from typing import TypeAlias\n",
                "from typing import Optional, Any\n",
                "import math\n",
                "\n",
                "Number: TypeAlias = int | float"
            ]
        },
        {
            "cell_type": "markdown",
            "metadata": {
                "cellIdentifier": "pca6tee2bzo08j8h8f85g9l",
                "deletable": false,
                "editable": false,
                "nbgrader": {
                    "grade": false,
                    "locked": true,
                    "solution": false
                }
            },
            "source": [
                "**CS1**. Create a class called `Square`. Its initialization takes in a variable which is the side of of a square. The object has one attribute which is called `side` to represent the side of a square. It has one property called `area` which sets the dimension of the square. Setting the area changes the side of a square."
            ]
        },
        {
            "cell_type": "code",
            "execution_count": 43,
            "metadata": {
                "cellIdentifier": "pkvuheqofxojz078ieuwx"
            },
            "outputs": [],
            "source": [
                "class Square:\n",
                "    def __init__(self, dim: Number=1) -> None:\n",
                "        self.side = dim\n",
                "\n",
                "    @property\n",
                "    def area(self) -> Number:\n",
                "        return self.side * self.side\n",
                "    \n",
                "    @area.setter\n",
                "    def area(self, value: Number) -> None:\n",
                "        if value > 0:\n",
                "            self.side = math.sqrt(value)\n",
                "\n",
                "    def __str__(self) -> str:\n",
                "        return f'Square with side {self.side}'\n",
                "\n"
            ]
        },
        {
            "cell_type": "code",
            "execution_count": 44,
            "metadata": {
                "cellIdentifier": "h05fg7z3ter7axehdz4pa4",
                "deletable": false,
                "editable": false,
                "nbgrader": {
                    "grade": true,
                    "grade_id": "cs11",
                    "locked": true,
                    "points": "1",
                    "solution": false
                }
            },
            "outputs": [],
            "source": [
                "s: Square = Square()\n",
                "assert s.area == 1\n",
                "\n",
                "s: Square = Square(2)\n",
                "assert s.area == 4\n",
                "s.area = 9\n",
                "assert s.side == 3\n"
            ]
        },
        {
            "cell_type": "code",
            "execution_count": 70,
            "metadata": {
                "cellIdentifier": "m2gh906pgaaebb4jc6og8",
                "deletable": false,
                "editable": false,
                "nbgrader": {
                    "grade": true,
                    "grade_id": "cs12",
                    "locked": true,
                    "points": "1",
                    "solution": false
                }
            },
            "outputs": [],
            "source": [
                "###\n",
                "### AUTOGRADER TEST - DO NOT REMOVE\n",
                "###\n"
            ]
        },
        {
            "cell_type": "markdown",
            "metadata": {
                "cellIdentifier": "jq76sec539y4aoogheho",
                "deletable": false,
                "editable": false,
                "nbgrader": {
                    "grade": false,
                    "locked": true,
                    "solution": false
                }
            },
            "source": [
                "**CS2.** We are going to create a simple Car Racing game. First, let's create a class Car with the following properties:\n",
                "- `racer` which stores the name of the driver. This property must be non-empty string. This property should be initialized upon object instantiation.\n",
                "- `speed` which stores the speed of the car. This property can only be non-negative values and must be **less than or equal** to a maximum speed. The setter of this property should ensure that the value of `speed` should only falls between `0` and `max_speed` (inclusive). \n",
                "- `pos` which is an integer specifying the position of the car which can only be non-negative values.\n",
                "- `is_finished` which is a computed property that returns `True` or `False` depending whether the position has reached the finish line.\n",
                "\n",
                "Each car also has the following attributes:\n",
                "- `max_speed` which specifies the maximum speed the car can have. This attribute should be initialized upon object instantiation.\n",
                "- `finish` which stores the finish distance the car has to go through. Upon initialization, it should be set to -1. \n",
                "\n",
                "The class has the following methods:\n",
                "- `start(init_speed, finish_distance)` which set the speed property to some initial value. The method also set the finish distance to some value and set the `pos` property to 0.\n",
                "- `race(acceleration)` which takes in an integer value for its acceleratin and modify both the speed and the position of the car.\n",
                "\n"
            ]
        },
        {
            "cell_type": "code",
            "execution_count": 4,
            "metadata": {
                "cellIdentifier": "pb9z74w6klhry8x5t1hn5b"
            },
            "outputs": [],
            "source": [
                "class RacingCar:\n",
                "    \n",
                "    def __init__(self, name: str, max_speed: int) -> None:\n",
                "        self._racer: str = name\n",
                "        self.max_speed: int = max_speed\n",
                "        self._speed: int = 0\n",
                "        self._pos: int = 0\n",
                "        self.finish: int = -1\n",
                "    \n",
                "    @property\n",
                "    def racer(self) -> str:\n",
                "        return self._racer\n",
                "    \n",
                "    @racer.setter\n",
                "    def racer(self, name: str) -> None:\n",
                "        if (name != \"\" and isinstance(name,str)):\n",
                "            self._racer = name\n",
                "            \n",
                "    @property\n",
                "    def speed(self) -> int:\n",
                "        return self._speed\n",
                "    \n",
                "    @speed.setter\n",
                "    def speed(self, val: int) -> None:\n",
                "        if (val < 0):\n",
                "            val = 0\n",
                "        elif (val > self.max_speed):\n",
                "            val = self.max_speed\n",
                "        self._speed = val\n",
                "    \n",
                "    @property\n",
                "    def pos(self) -> int:\n",
                "        return self._pos\n",
                "    \n",
                "    @pos.setter\n",
                "    def pos(self, val: int) -> None:\n",
                "        if (val >= 0):\n",
                "            self._pos = val\n",
                "            \n",
                "    @property\n",
                "    def is_finished(self) -> bool:\n",
                "        return (self.finish != -1 and self._pos >= self.finish)\n",
                "            \n",
                "    def start(self, init_speed: int, finish_dist: int) -> None:\n",
                "        self._speed = init_speed\n",
                "        self._pos = 0\n",
                "        self.finish = finish_dist\n",
                "    \n",
                "    def race(self, acc: int) -> None:\n",
                "        self._speed += acc\n",
                "        self._pos += self._speed\n",
                "        \n",
                "    def __str__(self) -> str:\n",
                "        return f\"Racing Car {self.racer} at position: {self.pos}, with speed: {self.speed}.\"\n",
                "    \n",
                "            \n",
                "    "
            ]
        },
        {
            "cell_type": "code",
            "execution_count": 5,
            "metadata": {
                "cellIdentifier": "lzzmgkakdndragzmjrzo9",
                "deletable": false,
                "editable": false,
                "nbgrader": {
                    "grade": true,
                    "grade_id": "cs21",
                    "locked": true,
                    "points": "1",
                    "solution": false
                }
            },
            "outputs": [],
            "source": [
                "car: RacingCar = RacingCar(\"Hamilton\", 200)\n",
                "assert car.racer == \"Hamilton\"\n",
                "assert car.max_speed == 200\n",
                "assert car.finish == -1\n",
                "\n",
                "car.racer = \"Bottas\"\n",
                "assert car.racer == \"Bottas\"\n",
                "car.racer = \"\"\n",
                "assert car.racer == \"Bottas\"\n",
                "car.racer = 21\n",
                "assert car.racer == \"Bottas\"\n",
                "\n",
                "car.speed = 10\n",
                "assert car.speed == 10\n",
                "car.speed = 0\n",
                "assert car.speed == 0\n",
                "car.speed = -10\n",
                "assert car.speed == 0\n",
                "car.speed = car.max_speed\n",
                "assert car.speed == car.max_speed\n",
                "car.speed = car.max_speed + 10\n",
                "assert car.speed == car.max_speed\n",
                "\n",
                "car.pos = 10\n",
                "assert car.pos == 10\n",
                "car.pos = -10\n",
                "assert car.pos == 10\n",
                "car.pos = 0\n",
                "assert car.pos == 0\n",
                "\n",
                "assert not car.is_finished\n",
                "car.finish = 20\n",
                "car.pos = 10\n",
                "assert not car.is_finished\n",
                "car.pos = 20\n",
                "assert car.is_finished\n",
                "car.pos = 22\n",
                "assert car.is_finished\n",
                "\n",
                "car.start(50, 200)\n",
                "assert car.pos == 0\n",
                "assert car.speed == 50\n",
                "assert car.finish == 200\n",
                "\n",
                "car.race(0)\n",
                "assert car.speed == 50\n",
                "assert car.pos == 50\n",
                "assert not car.is_finished\n",
                "\n",
                "car.race(10)\n",
                "assert car.speed == 60\n",
                "assert car.pos == 110\n",
                "assert not car.is_finished\n",
                "\n",
                "car.race(-10)\n",
                "assert car.speed == 50\n",
                "assert car.pos == 160\n",
                "assert not car.is_finished\n",
                "\n",
                "car.race(0)\n",
                "assert car.is_finished\n"
            ]
        },
        {
            "cell_type": "code",
            "execution_count": 6,
            "metadata": {
                "cellIdentifier": "rf87zdljrea7xl8p76gg8n",
                "deletable": false,
                "editable": false,
                "nbgrader": {
                    "grade": true,
                    "grade_id": "cs22",
                    "locked": true,
                    "points": "1",
                    "solution": false
                }
            },
            "outputs": [],
            "source": [
                "###\n",
                "### AUTOGRADER TEST - DO NOT REMOVE\n",
                "###\n"
            ]
        },
        {
            "cell_type": "markdown",
            "metadata": {
                "cellIdentifier": "ym5exz7za4bc6iknstjc9",
                "deletable": false,
                "editable": false,
                "nbgrader": {
                    "grade": false,
                    "locked": true,
                    "solution": false
                }
            },
            "source": [
                "**CS3**. Design a class named `Stock` to represent a company's stock that contains:\n",
                "* a string computed property named `symbol` for the stock's symbol.\n",
                "* a string computed property named `name` for the stock's name.\n",
                "* a float property named `previous_closing_price` that stores the stock's price for the previous day.\n",
                "* a float property named `current_price` that stores the stock price for the current time.\n",
                "* an initializer that initializes the new stock object with the specified symbol, name, previous price and current price. \n",
                "* a method named `get_change_percent()` that returns the percentage changed from previous closing price to current price. "
            ]
        },
        {
            "cell_type": "code",
            "execution_count": 28,
            "metadata": {
                "cellIdentifier": "eoc58wkuwmdmex2mkgmjq"
            },
            "outputs": [],
            "source": [
                "class Stock:\n",
                "    def __init__(self, symbol: str, name: str, previous_closing_price: float, current_price: float) -> None:\n",
                "        self.symbol: str = symbol\n",
                "        self.name: str = name\n",
                "        self.previous_closing_price: float = previous_closing_price\n",
                "        self.current_price: float = current_price\n",
                "        \n",
                "    def get_change_percent(self):\n",
                "        return (100*(self.current_price-self.previous_closing_price))/self.previous_closing_price\n"
            ]
        },
        {
            "cell_type": "code",
            "execution_count": 29,
            "metadata": {
                "cellIdentifier": "n3mzaltg4d8905liugjye5",
                "deletable": false,
                "editable": false,
                "nbgrader": {
                    "grade": true,
                    "grade_id": "cs31",
                    "locked": true,
                    "points": "1",
                    "solution": false
                }
            },
            "outputs": [],
            "source": [
                "s: Stock = Stock(\"INTC\", \"Intel Corporation\", 20.5, 20.35)\n",
                "assert s.symbol == \"INTC\"\n",
                "assert s.name == \"Intel Corporation\"\n",
                "assert s.previous_closing_price == 20.5\n",
                "assert s.current_price == 20.35\n",
                "assert round(s.get_change_percent(),2) == -0.73\n"
            ]
        },
        {
            "cell_type": "markdown",
            "metadata": {
                "cellIdentifier": "mjwgmsenwlkwkmoh0ja76c",
                "deletable": false,
                "editable": false,
                "nbgrader": {
                    "grade": false,
                    "locked": true,
                    "solution": false
                }
            },
            "source": [
                "**CS4.** Create a class called `Fraction` to represent a simple fraction. The class has two properties:\n",
                "- `num`: which represents a numerator and of the type Integer.\n",
                "- `den`: which represents a denominator and of the type Integer. Denominator should not be a zero. If a zero is assigned, you need to replace it with a `1`. \n",
                "If a `float` is assigned to either `num` or `den`, the setter should convert it to an integer using `int()` function. The setter should accept only `int` or `float` type of data.\n",
                "\n",
                "The class should have the following method:\n",
                "- `__init__(num, den)`: to initialize the numerator and the denominator. You should check if the denominator is zero. If it is you should assign `1` as the denominator instead. \n",
                "- `__str__()`:  for the object instance to be convertable to String.  You need to return a string in a format of `num/den`\n"
            ]
        },
        {
            "cell_type": "code",
            "execution_count": 39,
            "metadata": {
                "cellIdentifier": "h5sqwgwm4rt1t8k3mv5lj"
            },
            "outputs": [],
            "source": [
                "class Fraction:\n",
                "    def __init__(self, num: int, den: int) -> None:\n",
                "        self._num = int(num)\n",
                "        if (den == 0):\n",
                "            self._den = 1\n",
                "        else:\n",
                "            self._den = int(den)\n",
                "    \n",
                "    @property\n",
                "    def num(self) -> int:\n",
                "        return self._num\n",
                "    \n",
                "    @num.setter\n",
                "    def num(self, val: int) -> None:\n",
                "        self._num = int(val)\n",
                "    \n",
                "    @property\n",
                "    def den(self) -> int:\n",
                "        return self._den\n",
                "    \n",
                "    @den.setter\n",
                "    def den(self, val: int) -> None:\n",
                "        self._den = int(val)\n",
                "    \n",
                "    def __str__(self) -> str:\n",
                "        ret = str(self._num) + \"/\" + str(self._den)\n",
                "        return ret\n",
                "    "
            ]
        },
        {
            "cell_type": "code",
            "execution_count": 40,
            "metadata": {
                "cellIdentifier": "3fnc9wyfon8wa8yj5x4h9",
                "deletable": false,
                "editable": false,
                "nbgrader": {
                    "grade": true,
                    "grade_id": "cs41",
                    "locked": true,
                    "points": "1",
                    "solution": false
                }
            },
            "outputs": [],
            "source": [
                "f0: Fraction = Fraction(0, 1)\n",
                "assert f0.num == 0\n",
                "assert f0.den == 1\n",
                "assert str(f0) == \"0/1\"\n",
                "\n",
                "f1: Fraction = Fraction(1, 2)\n",
                "assert f1.num == 1\n",
                "assert f1.den == 2\n",
                "assert str(f1) == \"1/2\"\n",
                "\n",
                "f1.num = 3\n",
                "f1.den = 4\n",
                "assert str(f1) == \"3/4\"\n"
            ]
        },
        {
            "cell_type": "code",
            "execution_count": 41,
            "metadata": {
                "cellIdentifier": "1gkiu4a1hy33m0vni3gvdn",
                "deletable": false,
                "editable": false,
                "nbgrader": {
                    "grade": true,
                    "grade_id": "cs42",
                    "locked": true,
                    "points": "1",
                    "solution": false
                }
            },
            "outputs": [],
            "source": [
                "###\n",
                "### AUTOGRADER TEST - DO NOT REMOVE\n",
                "###\n"
            ]
        },
        {
            "cell_type": "markdown",
            "metadata": {
                "cellIdentifier": "or287v40u762n1al8uyuw",
                "colab_type": "text",
                "deletable": false,
                "editable": false,
                "id": "x7_z1uFVrtoN",
                "nbgrader": {
                    "grade": false,
                    "locked": true,
                    "solution": false
                }
            },
            "source": [
                "**CS5.** Implement the `Stack` abstract data type using a Class. You can use `list` Python data type as its internal data structure. Name this `list` as `items`.\n",
                "\n",
                "The class should have the following interface:\n",
                "- `__init__()` to initialize an empty list for the stack to store the items.\n",
                "- `push(item)` which stores an item into the top of the stack.\n",
                "- `pop()` which returns and removes the top element of the stack. The return value is optional as it may return `None` if there are no more elements in the stack.\n",
                "- `peek()` which returns the top element of the stack. If the stack is empty, it returns `None`.\n",
                "\n",
                "The class should have the following properties:\n",
                "- `is_empty` is a computed property which returns either `True` or `False` depending whether the stack is empty or not.\n",
                "- `size` is a computed property which returns the number of items in the stack.\n"
            ]
        },
        {
            "cell_type": "code",
            "execution_count": 39,
            "metadata": {
                "cellIdentifier": "4vgpmjcb17ja1o8bv0bvxs",
                "colab": [],
                "colab_type": "code",
                "id": "qyEcgTAXre4j"
            },
            "outputs": [],
            "source": [
                "class Stack:\n",
                "    def __init__(self) -> None:\n",
                "        self.__items: list[Any] = []\n",
                "        \n",
                "    def push(self, item: Any):\n",
                "        self.__items.append(item)\n",
                "\n",
                "    def pop(self) -> Any:\n",
                "        if (len(self.__items) == 0):\n",
                "            return None\n",
                "        return self.__items.pop()\n",
                "\n",
                "    def peek(self) -> Any:\n",
                "        return self.__items[-1]\n",
                "\n",
                "    @property\n",
                "    def is_empty(self) -> bool:\n",
                "        return (len(self.__items) == 0)\n",
                "\n",
                "    @property\n",
                "    def size(self):\n",
                "        return len(self.__items)\n",
                "\n"
            ]
        },
        {
            "cell_type": "code",
            "execution_count": 41,
            "metadata": {
                "cellIdentifier": "3pehwbytcb4k8tl3r73j6",
                "colab": [],
                "colab_type": "code",
                "deletable": false,
                "editable": false,
                "id": "3FVPl3zWskyg",
                "nbgrader": {
                    "grade": true,
                    "grade_id": "cs51",
                    "locked": true,
                    "points": "1",
                    "solution": false
                }
            },
            "outputs": [],
            "source": [
                "s1: Stack = Stack()\n",
                "s1.push(2)\n",
                "assert not s1.is_empty\n",
                "assert s1.pop() == 2\n",
                "assert s1.is_empty\n",
                "assert s1.pop() == None\n",
                "s1.push(1)\n",
                "s1.push(2)\n",
                "s1.push(3)\n",
                "assert not s1.is_empty\n",
                "assert s1._Stack__items == [1, 2, 3]\n",
                "assert s1.peek() == 3\n",
                "assert s1.size == 3\n"
            ]
        },
        {
            "cell_type": "code",
            "execution_count": 38,
            "metadata": {
                "cellIdentifier": "3jf4d2s7gdiv3fhynhwbz",
                "deletable": false,
                "editable": false,
                "nbgrader": {
                    "grade": true,
                    "grade_id": "cs52",
                    "locked": true,
                    "points": "1",
                    "solution": false
                }
            },
            "outputs": [],
            "source": [
                "###\n",
                "### AUTOGRADER TEST - DO NOT REMOVE\n",
                "###\n"
            ]
        },
        {
            "cell_type": "markdown",
            "metadata": {
                "cellIdentifier": "leb31wkj24rz1pqe578hm",
                "deletable": false,
                "editable": false,
                "nbgrader": {
                    "grade": false,
                    "locked": true,
                    "solution": false
                }
            },
            "source": [
                "**CS6.** Implement a Queue abstract data structure using two Stacks instead of Python's list. For this double-stack implementation, the Queue has a *left* Stack and a *right* Stack. The enqueue and dequeue operations work as follows:\n",
                "- enqueue: This operation just pushes the new item into the *left* Stack.\n",
                "- dequeue: This operation is done as follows:\n",
                "    - if the *right* Stack is empty: create a new *right* Stack which is the reverse of the items in the *left* Stack. You should then empty the *left* stack.\n",
                "    - if the *right* Stack is not empty: pop from the *right* Stack.\n",
                "- peek: This operation is similar to Stack's peek. It returns the value at the front of the Queue without removing it. If the Queue is empth, it should return a `None` object.\n",
                "\n",
                "Note that, you could also enqueue to the right Stack and dequeue from the left stack. You can choose to implement according to this if you wish and make sure the operations still work as defined."
            ]
        },
        {
            "cell_type": "code",
            "execution_count": 65,
            "metadata": {
                "cellIdentifier": "g63fweplrap8wnm7y6t74"
            },
            "outputs": [],
            "source": [
                "class Queue:\n",
                "    def __init__(self) -> None:\n",
                "        self.left_stack: Stack = Stack()\n",
                "        self.right_stack: Stack = Stack()\n",
                "        \n",
                "    def enqueue(self, item: Any):\n",
                "        self.left_stack.push(item)\n",
                "\n",
                "    def dequeue(self) -> Any:\n",
                "        if (self.right_stack.is_empty):\n",
                "            while(self.left_stack.size > 0):\n",
                "                self.right_stack.push(self.left_stack.pop())\n",
                "        return self.right_stack.pop()\n",
                "            \n",
                "\n",
                "    def peek(self) -> Any:\n",
                "        if (self.right_stack.size + self.left_stack.size == 0):\n",
                "            return None\n",
                "        if (self.right_stack.size > 0):\n",
                "            return self.right_stack.peek()\n",
                "        while(self.left_stack.size > 0):\n",
                "            self.right_stack.push(self.left_stack.pop())\n",
                "        return self.right_stack.peek()\n",
                "\n",
                "    @property\n",
                "    def is_empty(self) -> bool:\n",
                "        return (self.left_stack.size + self.right_stack.size == 0)\n",
                "\n",
                "    @property\n",
                "    def size(self):\n",
                "        return self.left_stack.size + self.right_stack.size\n"
            ]
        },
        {
            "cell_type": "code",
            "execution_count": 66,
            "metadata": {
                "cellIdentifier": "hsl5ekqzqdlw1k243kktm",
                "deletable": false,
                "editable": false,
                "nbgrader": {
                    "grade": true,
                    "grade_id": "cs61",
                    "locked": true,
                    "points": "1",
                    "solution": false
                }
            },
            "outputs": [],
            "source": [
                "q1: Queue = Queue()\n",
                "q1.enqueue(2)\n",
                "assert not q1.is_empty \n",
                "assert q1.size == 1\n",
                "assert q1.dequeue() == 2\n",
                "assert q1.is_empty\n",
                "q1.enqueue(1)\n",
                "q1.enqueue(2)\n",
                "q1.enqueue(3)\n",
                "assert q1.size == 3\n",
                "assert q1.peek() == 1\n",
                "assert q1.dequeue() == 1\n",
                "assert q1.dequeue() == 2\n",
                "assert q1.dequeue() == 3\n",
                "assert q1.peek() == None\n"
            ]
        },
        {
            "cell_type": "code",
            "execution_count": 67,
            "metadata": {
                "cellIdentifier": "n9vne9fe5k762lblq1auq",
                "deletable": false,
                "editable": false,
                "nbgrader": {
                    "grade": true,
                    "grade_id": "cs62",
                    "locked": true,
                    "points": "1",
                    "solution": false
                }
            },
            "outputs": [],
            "source": [
                "###\n",
                "### AUTOGRADER TEST - DO NOT REMOVE\n",
                "###\n"
            ]
        }
    ],
    "metadata": {
        "colab": {
            "collapsed_sections": [],
            "name": "Week04_ProblemSet.ipynb",
            "provenance": []
        },
        "kernel_id": "5e967932-a4fb-430d-8d47-ca88aec796f0",
        "kernelspec": {
            "display_name": "Python 3 [3.10]",
            "language": "python",
            "name": "python3"
        },
        "language_info": {
            "codemirror_mode": {
                "name": "ipython",
                "version": 3
            },
            "file_extension": ".py",
            "mimetype": "text/x-python",
            "name": "python",
            "nbconvert_exporter": "python",
            "pygments_lexer": "ipython3",
            "version": "3.12.1"
        },
        "vscode": {
            "interpreter": {
                "hash": "ac37b77c3c0f43e60bec193f0626743b91dd65d8d4aeca5713e457ab7e777e4c"
            }
        }
    },
    "nbformat": 4,
    "nbformat_minor": 4
}
